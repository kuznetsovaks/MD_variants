{
 "cells": [
  {
   "cell_type": "markdown",
   "id": "93092dce",
   "metadata": {},
   "source": [
    "# Take ClinVar variants and map them to reference Ensembl table"
   ]
  },
  {
   "cell_type": "code",
   "execution_count": null,
   "id": "99924049",
   "metadata": {},
   "outputs": [],
   "source": [
    "import pandas as pd\n",
    "import requests, sys\n",
    "import time\n",
    "import pprint\n",
    "from numpy import nan, log"
   ]
  },
  {
   "cell_type": "markdown",
   "id": "2cdfad2c",
   "metadata": {},
   "source": [
    "## 1. Export variant table associated with phenotypes \"MODY\", \"Monogenic diabetes\" and \"Neonathal diabetes\" and map them to Ensembl reference table by rs identifiers "
   ]
  },
  {
   "cell_type": "code",
   "execution_count": null,
   "id": "d9860c5f",
   "metadata": {
    "scrolled": true
   },
   "outputs": [],
   "source": [
    "#combine these tables together\n",
    "ClinVar_MODY = pd.read_table(\n",
    "    'input/clinvar_result_MODY.txt')\n",
    "ClinVar_MD = pd.read_table(\n",
    "    'input/clinvar_result_MD.txt')\n",
    "ClinVar_ND = pd.read_table(\n",
    "    'input/clinvar_result_ND.txt')\n",
    "df = pd.concat([ClinVar_MODY, ClinVar_MD, ClinVar_ND])\n",
    "ClinVar = df.rename(columns={\"dbSNP ID\": \"ID\"}).rename(columns={\"Canonical SPDI\": \"Canonical_SPDI\"}).drop_duplicates().reset_index(drop=True)\n",
    "ClinVar = ClinVar.replace(nan, '')\n",
    "ClinVar"
   ]
  },
  {
   "cell_type": "code",
   "execution_count": null,
   "id": "d0c6713f",
   "metadata": {
    "scrolled": true
   },
   "outputs": [],
   "source": [
    "# Creating a \"coordinate\" column that will look like the coordinate in Ensembl\n",
    "\n",
    "coordinates = []\n",
    "for index, row in ClinVar.iterrows():\n",
    "    \n",
    "    if row['Canonical_SPDI'] == '':\n",
    "        coordinates.append('')\n",
    "\n",
    "    elif type(row['GRCh38Chromosome']) == float:\n",
    "        coordinates.append(str(int(row['GRCh38Chromosome'])) + ':' + \n",
    "              (str(int(row['Canonical_SPDI'].split(':')[1]) + 1)) + ':' + row['Canonical_SPDI'].split(':')[2] + \n",
    "              '>' + row['Canonical_SPDI'].split(':')[3])\n",
    "\n",
    "    else: \n",
    "        coordinates.append(str(row['GRCh38Chromosome']) + ':' + \n",
    "              (str(int(row['Canonical_SPDI'].split(':')[1]) + 1)) + ':' + row['Canonical_SPDI'].split(':')[2] + \n",
    "              '>' + row['Canonical_SPDI'].split(':')[3])\n",
    "        \n",
    "ClinVar['coordinates'] = coordinates\n",
    "ClinVar\n",
    "#coordinates"
   ]
  },
  {
   "cell_type": "code",
   "execution_count": null,
   "id": "f751000e",
   "metadata": {},
   "outputs": [],
   "source": [
    "# choosing the variants from ClinVar that are in dbSNP\n",
    "\n",
    "ClinVar_list = []\n",
    "for var in ClinVar['ID']:\n",
    "    if str(var).startswith('rs'):\n",
    "        ClinVar_list.append(var)\n",
    "ClinVar_rs = list(set(ClinVar_list)) #getting rid of duplicates\n",
    "len(ClinVar_rs)"
   ]
  },
  {
   "cell_type": "code",
   "execution_count": null,
   "id": "2ae53a8a",
   "metadata": {},
   "outputs": [],
   "source": [
    "Ens = pd.read_csv(\n",
    "    'intermediate/Ens_filtered_all_alleles_location_coord_no_duplicates.csv',\n",
    "                      converters={i: str for i in range(11)}, low_memory=False)"
   ]
  },
  {
   "cell_type": "code",
   "execution_count": null,
   "id": "b2be06c8",
   "metadata": {},
   "outputs": [],
   "source": [
    "ClinVar_mapped = Ens.drop_duplicates().query('id in @ClinVar_rs').reset_index(drop=True)\n",
    "ClinVar_mapped"
   ]
  },
  {
   "cell_type": "code",
   "execution_count": null,
   "id": "b7cfa341",
   "metadata": {
    "scrolled": true
   },
   "outputs": [],
   "source": [
    "#How many variants are in this table?\n",
    "ClinVar_ID_list = ClinVar_mapped['id'].unique().tolist()\n",
    "len(ClinVar_ID_list)"
   ]
  },
  {
   "cell_type": "code",
   "execution_count": null,
   "id": "8b198bdd",
   "metadata": {},
   "outputs": [],
   "source": [
    "#This was a 1st stage mapping\n",
    "ClinVar_mapped.to_csv(\n",
    "    'ClinVar_mapped_to_Ens_1st.csv',\n",
    "    header=True, index=False)"
   ]
  },
  {
   "cell_type": "markdown",
   "id": "34548635",
   "metadata": {},
   "source": [
    "## 2. Take the variants that did not map with rs and try to map them by coordinates"
   ]
  },
  {
   "cell_type": "code",
   "execution_count": null,
   "id": "d14794ad",
   "metadata": {},
   "outputs": [],
   "source": [
    "# choosing the variants from ClinVar that are not in dbSNP\n",
    "\n",
    "ClinVar_nonrs_list = []\n",
    "for index,row in ClinVar.iterrows():\n",
    "    if str(row['ID']).startswith('rs'):\n",
    "        continue\n",
    "    if row['Canonical_SPDI'] == '':\n",
    "        continue\n",
    "    else: ClinVar_nonrs_list.append(row['Canonical_SPDI'])\n",
    "len(ClinVar_nonrs_list)"
   ]
  },
  {
   "cell_type": "code",
   "execution_count": null,
   "id": "314c44c4",
   "metadata": {},
   "outputs": [],
   "source": [
    "#there seem to be some lacking ['Canonical SPDI']\n",
    "strange_list = []\n",
    "for index,row in ClinVar.iterrows():\n",
    "    if row['Canonical_SPDI'] == '':\n",
    "        strange_list.append(str(row['Name']))\n",
    "len(strange_list)"
   ]
  },
  {
   "cell_type": "code",
   "execution_count": null,
   "id": "dcd963c1",
   "metadata": {
    "scrolled": true
   },
   "outputs": [],
   "source": [
    "ClinVar_unmapped = ClinVar.drop_duplicates().query('Canonical_SPDI in @ClinVar_nonrs_list').reset_index(drop=True)\n",
    "ClinVar_unmapped"
   ]
  },
  {
   "cell_type": "code",
   "execution_count": null,
   "id": "0d9bdbb3",
   "metadata": {},
   "outputs": [],
   "source": [
    "ClinVar_unmapped.to_csv(\n",
    "    'ClinVar_all_unmapped.csv', header=True, index=False)"
   ]
  },
  {
   "cell_type": "code",
   "execution_count": null,
   "id": "22adca48",
   "metadata": {},
   "outputs": [],
   "source": [
    "#How many variants in the ClinVar_unmapped table\n",
    "len(ClinVar_unmapped['Accession'].unique())"
   ]
  },
  {
   "cell_type": "code",
   "execution_count": null,
   "id": "26366f2a",
   "metadata": {},
   "outputs": [],
   "source": [
    "#list of coordinates of the variants that did not map with rs ID to Ensembl\n",
    "unmapped_coord = ClinVar_unmapped['coordinates'].tolist()"
   ]
  },
  {
   "cell_type": "code",
   "execution_count": null,
   "id": "d9077cd9",
   "metadata": {},
   "outputs": [],
   "source": [
    "#Mapping them to Ensembl by coordinates\n",
    "ClinVar_mapped_coord = Ens.query('coordinate in @unmapped_coord').reset_index(drop=True)\n",
    "ClinVar_mapped_coord"
   ]
  },
  {
   "cell_type": "code",
   "execution_count": null,
   "id": "5d1d0b1d",
   "metadata": {},
   "outputs": [],
   "source": [
    "#This was a 2nd stage mapping\n",
    "ClinVar_mapped_coord.to_csv(\n",
    "    'ClinVar_mapped_to_Ens_2nd.csv',\n",
    "    header=True, index=False)"
   ]
  },
  {
   "cell_type": "code",
   "execution_count": null,
   "id": "3a4e2c79",
   "metadata": {},
   "outputs": [],
   "source": [
    "#How many variants have mapped\n",
    "len(ClinVar_mapped_coord['coordinate'].unique())"
   ]
  },
  {
   "cell_type": "code",
   "execution_count": null,
   "id": "3b385dce",
   "metadata": {},
   "outputs": [],
   "source": [
    "#List of the variants that did not map neither with rs nor with coordinates\n",
    "leftovers = []\n",
    "ClinVar_mapped_coord_list = ClinVar_mapped_coord['coordinate'].tolist()\n",
    "for var in ClinVar_unmapped['coordinates']:\n",
    "    if var not in ClinVar_mapped_coord_list:\n",
    "        leftovers.append(var)\n",
    "len(leftovers)"
   ]
  },
  {
   "cell_type": "code",
   "execution_count": null,
   "id": "7c899472",
   "metadata": {
    "scrolled": true
   },
   "outputs": [],
   "source": [
    "#Filtering the ClinVar_unmapped table to only leftover variants\n",
    "ClinVar_rs_coord_unmapped = ClinVar_unmapped.query('coordinates in @leftovers').reset_index(drop=True)\n",
    "ClinVar_rs_coord_unmapped"
   ]
  },
  {
   "cell_type": "code",
   "execution_count": null,
   "id": "4ed6bfe1",
   "metadata": {},
   "outputs": [],
   "source": [
    "#This was a 2nd stage mapping\n",
    "ClinVar_rs_coord_unmapped.to_csv(\n",
    "    'ClinVar_unmapped_by_rs_coord.csv',\n",
    "    header=True, index=False)"
   ]
  },
  {
   "cell_type": "markdown",
   "id": "61d6e6ca",
   "metadata": {},
   "source": [
    "So that would be nice now to know which one of the ClinVar variants are the coding ones or at least lay in exons. For this we can do the \"Fetch variant consequences based on a HGVS notation\" from here https://rest.ensembl.org/documentation/info/vep_hgvs_get"
   ]
  },
  {
   "cell_type": "markdown",
   "id": "395faa1c",
   "metadata": {},
   "source": [
    "## 3. Fetch the variant consequence type using coordinates with Ensembl API"
   ]
  },
  {
   "cell_type": "code",
   "execution_count": null,
   "id": "cc0d0523",
   "metadata": {
    "scrolled": true
   },
   "outputs": [],
   "source": [
    "# creating a proper genomic coordinate for the API search\n",
    "coordinates = []\n",
    "for index,row in ClinVar_rs_coord_unmapped.iterrows():\n",
    "    coordinates.append(str(int(row['GRCh38Chromosome']))\n",
    "          + ':g.' + str(int(row['Canonical_SPDI'].split(':')[1])+1)\n",
    "          + row['Canonical_SPDI'].split(':')[2] + '>' + row['Canonical_SPDI'].split(':')[3])\n",
    "ClinVar_rs_coord_unmapped['DNA_coordinate'] = coordinates\n",
    "ClinVar_rs_coord_unmapped"
   ]
  },
  {
   "cell_type": "code",
   "execution_count": null,
   "id": "68b95826",
   "metadata": {},
   "outputs": [],
   "source": [
    "variants = []\n",
    "passed_vars = []\n",
    "indels = []"
   ]
  },
  {
   "cell_type": "code",
   "execution_count": null,
   "id": "dd77c127",
   "metadata": {
    "scrolled": true
   },
   "outputs": [],
   "source": [
    "server = \"https://rest.ensembl.org\"\n",
    "\n",
    "count = 0\n",
    "for index, row in ClinVar_rs_coord_unmapped.iterrows():\n",
    "    if row['Accession'] not in passed_vars:\n",
    "        variant_id = row['Accession']\n",
    "        ext = \"/vep/human/hgvs/\" + row['DNA_coordinate'] + \"?\"\n",
    "        r = requests.get(server+ext, headers={ \"Content-Type\" : \"application/json\"})\n",
    "        if not r.ok:\n",
    "            print(row['DNA_coordinate'])\n",
    "            indels.append(row['DNA_coordinate'])\n",
    "            continue\n",
    " \n",
    "        variants.append({'variant_id': variant_id, 'variant': r.json()})\n",
    "        time.sleep(1)\n",
    "        count = count + 1\n",
    "        print(str(count), ' -----> ', ext)"
   ]
  },
  {
   "cell_type": "code",
   "execution_count": null,
   "id": "efa5cbac",
   "metadata": {},
   "outputs": [],
   "source": [
    "len(indels)"
   ]
  },
  {
   "cell_type": "code",
   "execution_count": null,
   "id": "7eefa930",
   "metadata": {},
   "outputs": [],
   "source": [
    "len(variants)"
   ]
  },
  {
   "cell_type": "markdown",
   "id": "364f047f",
   "metadata": {},
   "source": [
    "## 4. Working with the ones that have fetched"
   ]
  },
  {
   "cell_type": "markdown",
   "id": "e7c766ab",
   "metadata": {},
   "source": [
    "Create a dataframe with variants, coordinates and their fetched consequences"
   ]
  },
  {
   "cell_type": "code",
   "execution_count": null,
   "id": "3d74e091",
   "metadata": {
    "scrolled": true
   },
   "outputs": [],
   "source": [
    "coord_cons = []\n",
    "for var in variants:\n",
    "    var_id = var['variant_id']\n",
    "    for trans in var['variant']:\n",
    "        coord = trans['id']\n",
    "        consequence = trans['most_severe_consequence']\n",
    "        coord_cons.append({'coordinate': coord, 'consequence': consequence, 'accession': var_id})\n",
    "coord_cons_df = pd.DataFrame(coord_cons)\n",
    "coord_cons_df"
   ]
  },
  {
   "cell_type": "code",
   "execution_count": null,
   "id": "d45932db",
   "metadata": {},
   "outputs": [],
   "source": [
    "coord_cons_df.to_csv(\n",
    "    'ClinVar_unmapped_fetched_unfiltered.csv',\n",
    "    header=True, index=False)"
   ]
  },
  {
   "cell_type": "code",
   "execution_count": null,
   "id": "7c59a061",
   "metadata": {},
   "outputs": [],
   "source": [
    "#check which consequence types are there\n",
    "coord_cons_df['consequence'].unique()"
   ]
  },
  {
   "cell_type": "markdown",
   "id": "b75f8bac",
   "metadata": {},
   "source": [
    "The consequence types decided from the Pathogenicity check are the following:\n",
    "    \n",
    "'missense variant',\n",
    "'frameshift variant',\n",
    "'splice donor variant',\n",
    "'splice acceptor variant',\n",
    "'nonsense (stop gained)',\n",
    "'stop lost',\n",
    "'nc transcript variant' \n",
    "\n",
    "for the categories from ClinVar and the following for the Ensembl categories:\n",
    "\n",
    "'missense_variant',\n",
    "'protein_altering_variant', \n",
    "'coding_sequence_variant', \n",
    "'frameshift_variant', \n",
    "'splice_donor_variant', \n",
    "'splice_acceptor_variant', \n",
    "'splice_donor_5th_base_variant', \n",
    "'start_lost', \n",
    "'stop_gained', \n",
    "'stop_lost', \n",
    "'inframe_deletion', \n",
    "'inframe_insertion'"
   ]
  },
  {
   "cell_type": "code",
   "execution_count": null,
   "id": "9caa3be7",
   "metadata": {},
   "outputs": [],
   "source": [
    "#The list of consequence types we desided to leave in the table\n",
    "\n",
    "consequence_type_list = ['missense_variant',\n",
    "                         'protein_altering_variant',\n",
    "                         'coding_sequence_variant',\n",
    "                         'frameshift_variant',\n",
    "                         'splice_donor_variant',\n",
    "                         'splice_acceptor_variant',\n",
    "                         'splice_donor_5th_base_variant',\n",
    "                         'start_lost',\n",
    "                         'stop_gained',\n",
    "                         'stop_lost',\n",
    "                         'inframe_deletion',\n",
    "                         'inframe_insertion']"
   ]
  },
  {
   "cell_type": "code",
   "execution_count": null,
   "id": "8e21eefd",
   "metadata": {},
   "outputs": [],
   "source": [
    "ClinVar_unmapped_SNV_filtered = coord_cons_df.query('consequence in @consequence_type_list').reset_index(drop=True)\n",
    "ClinVar_unmapped_SNV_filtered"
   ]
  },
  {
   "cell_type": "code",
   "execution_count": null,
   "id": "54681c34",
   "metadata": {},
   "outputs": [],
   "source": [
    "len(ClinVar_unmapped_SNV_filtered['coordinate'].unique())"
   ]
  },
  {
   "cell_type": "code",
   "execution_count": null,
   "id": "a051964b",
   "metadata": {},
   "outputs": [],
   "source": [
    "#Make them pretty for the inclusion into VCF\n",
    "ClinVar_unmapped_SNV_filtered_listdict = []\n",
    "for index,row in ClinVar_unmapped_SNV_filtered.iterrows():\n",
    "    chrom = row['coordinate'][:row['coordinate'].find(':')]\n",
    "    pos = row['coordinate'][row['coordinate'].find('.')+1:row['coordinate'].find('>')-1]\n",
    "    ref = row['coordinate'][row['coordinate'].find('>')-1]\n",
    "    alt = row['coordinate'][row['coordinate'].find('>')+1:]\n",
    "    accession = row['accession']\n",
    "    ClinVar_unmapped_SNV_filtered_listdict.append({'chrom': chrom, 'pos': pos,\n",
    "                                             'ref': ref, 'alt': alt, 'accession': accession})\n",
    "ClinVar_unmapped_SNV_filtered_df = pd.DataFrame(ClinVar_unmapped_SNV_filtered_listdict)   \n",
    "ClinVar_unmapped_SNV_filtered_df"
   ]
  },
  {
   "cell_type": "code",
   "execution_count": null,
   "id": "96dd0c64",
   "metadata": {},
   "outputs": [],
   "source": [
    "ClinVar_unmapped_SNV_filtered_df.to_csv(\n",
    "    'ClinVar_unmapped_filtered_SNV_for_VCF.csv',\n",
    "    header=True, index=False)"
   ]
  },
  {
   "cell_type": "markdown",
   "id": "cc496fc6",
   "metadata": {},
   "source": [
    "## 5. Working with indels"
   ]
  },
  {
   "cell_type": "markdown",
   "id": "de3ee3f8",
   "metadata": {},
   "source": [
    "The ones that did not fetch are all indels. They are in the list 'indels' created in the p. 3"
   ]
  },
  {
   "cell_type": "code",
   "execution_count": null,
   "id": "9fd40f0a",
   "metadata": {
    "scrolled": true
   },
   "outputs": [],
   "source": [
    "indels"
   ]
  },
  {
   "cell_type": "code",
   "execution_count": null,
   "id": "2e71ae08",
   "metadata": {
    "scrolled": true
   },
   "outputs": [],
   "source": [
    "#filter the unmapped ClinVar table to contain just indels\n",
    "indel_df = ClinVar_rs_coord_unmapped.query('DNA_coordinate in @indels').reset_index(drop=True)\n",
    "indel_df"
   ]
  },
  {
   "cell_type": "code",
   "execution_count": null,
   "id": "efdf52b7",
   "metadata": {},
   "outputs": [],
   "source": [
    "#Make them pretty for the inclusion into VCF\n",
    "df_dict_list = []\n",
    "for index,row in indel_df.iterrows():\n",
    "    df_dict_list.append({'chrom' : str(int(row['GRCh38Chromosome'])), \n",
    "     'pos' : row['GRCh38Location'].split(' -')[0], \n",
    "     'ref' : row['Canonical_SPDI'].split(':')[2], \n",
    "     'alt' : row['Canonical_SPDI'].split(':')[3],\n",
    "                         'accession': row['Accession']})\n",
    "ClinVar_indels = pd.DataFrame(df_dict_list)\n",
    "ClinVar_indels"
   ]
  },
  {
   "cell_type": "code",
   "execution_count": null,
   "id": "0476c977",
   "metadata": {},
   "outputs": [],
   "source": [
    "ClinVar_indels.to_csv(\n",
    "    'ClinVar_indels.csv',\n",
    "    header=True, index=False)"
   ]
  },
  {
   "cell_type": "markdown",
   "id": "4694f598",
   "metadata": {},
   "source": [
    "## 6. Repeat the same but with the table filtered to just 'pathogenic' and 'likely pathogenic' variants"
   ]
  },
  {
   "cell_type": "markdown",
   "id": "f7bace25",
   "metadata": {},
   "source": [
    "## Here we also need to remove BLK, KLF11 and PAX4"
   ]
  },
  {
   "cell_type": "code",
   "execution_count": null,
   "id": "87af19ff",
   "metadata": {
    "scrolled": true
   },
   "outputs": [],
   "source": [
    "ClinVar_clinical = ClinVar.rename(columns={\"Clinical significance (Last reviewed)\": \"clinical_significance\"})\n",
    "ClinVar_clinical"
   ]
  },
  {
   "cell_type": "code",
   "execution_count": null,
   "id": "58f513e4",
   "metadata": {
    "scrolled": true
   },
   "outputs": [],
   "source": [
    "#Filtering to just pathogenic variants and removing the 3 genes\n",
    "\n",
    "pathogenic_vars = []\n",
    "for index, row in ClinVar_clinical.iterrows():\n",
    "    if row['clinical_significance'].split('(')[0] == 'Pathogenic' or row['clinical_significance'].split('(')[0] == 'Likely pathogenic':\n",
    "        pathogenic_vars.append(row['Accession'])\n",
    "ClinPath = ClinVar_clinical.query('Accession in @pathogenic_vars').reset_index(drop=True)\n",
    "pathogenic = ClinPath[ClinPath['Gene(s)'] != 'PAX4']\n",
    "pathogenic\n"
   ]
  },
  {
   "cell_type": "code",
   "execution_count": null,
   "id": "c3336b70",
   "metadata": {},
   "outputs": [],
   "source": [
    "# Checking that there are no BLK, KLF11, PAX4\n",
    "pathogenic['Gene(s)'].unique()"
   ]
  },
  {
   "cell_type": "code",
   "execution_count": null,
   "id": "24c331a3",
   "metadata": {},
   "outputs": [],
   "source": [
    "pathogenic.to_csv(\n",
    "    'ClinVar_MD_pathogenic.csv',\n",
    "    header=True, index=False)"
   ]
  },
  {
   "cell_type": "code",
   "execution_count": null,
   "id": "9940f0d2",
   "metadata": {
    "scrolled": true
   },
   "outputs": [],
   "source": [
    "# choosing the variants from ClinVar that are in dbSNP\n",
    "ClinVar_pat_list = []\n",
    "for var in pathogenic['ID']:\n",
    "    if str(var).startswith('rs'):\n",
    "        ClinVar_pat_list.append(var)\n",
    "ClinVar_pat_rs = list(set(ClinVar_pat_list)) #getting rid of duplicates\n",
    "ClinVar_pat_mapped = Ens.drop_duplicates().query('id in @ClinVar_pat_rs').reset_index(drop=True)\n",
    "ClinVar_pat_mapped.to_csv(\n",
    "    'ClinVar_pathogenic_mapped_1st.csv',\n",
    "    header=True, index=False)\n",
    "print('created the 1st stage of mapping')\n",
    "\n",
    "# choosing the variants from ClinVar that are not in dbSNP\n",
    "ClinVar_nonrs_list = []\n",
    "for index,row in pathogenic.iterrows():\n",
    "    if str(row['ID']).startswith('rs'):\n",
    "        continue\n",
    "    if row['Canonical_SPDI'] == '':\n",
    "        continue\n",
    "    else: ClinVar_nonrs_list.append(row['Canonical_SPDI'])\n",
    "len(ClinVar_nonrs_list)\n",
    "ClinVar_pat_unmapped = pathogenic.query('Canonical_SPDI in @ClinVar_nonrs_list').reset_index(drop=True)\n",
    "ClinVar_pat_unmapped.to_csv(\n",
    "    'ClinVar_pat_unmapped.csv', header=True, index=False)\n",
    "print('saving the table with unmapped')\n",
    "\n",
    "#list of coordinates of the variants that did not map with rs ID to Ensembl\n",
    "unmapped_coord = ClinVar_pat_unmapped['coordinates'].tolist()\n",
    "\n",
    "#Mapping them to Ensembl by coordinates\n",
    "ClinVar_pat_mapped_coord = Ens.query('coordinate in @unmapped_coord').reset_index(drop=True)\n",
    "#This was a 2nd stage mapping\n",
    "ClinVar_pat_mapped_coord.to_csv(\n",
    "    'ClinVar_pathogenic_mapped_to_Ens_2nd.csv',\n",
    "    header=True, index=False)\n",
    "print('creating 2nd stage of mapping')\n",
    "\n",
    "#List of the variants that did not map neither with rs nor with coordinates\n",
    "leftovers = []\n",
    "ClinVar_pat_mapped_coord_list = ClinVar_pat_mapped_coord['coordinate'].tolist()\n",
    "for var in ClinVar_pat_unmapped['coordinates']:\n",
    "    if var not in ClinVar_pat_mapped_coord_list:\n",
    "        leftovers.append(var)\n",
    "\n",
    "#Filtering the ClinVar_unmapped table to only leftover variants\n",
    "ClinVar_pat_rs_coord_unmapped = ClinVar_pat_unmapped.query('coordinates in @leftovers').reset_index(drop=True)\n",
    "\n",
    "# creating a proper genomic coordinate for the API search\n",
    "coordinates = []\n",
    "for index,row in ClinVar_pat_rs_coord_unmapped.iterrows():\n",
    "    coordinates.append(str(int(row['GRCh38Chromosome']))\n",
    "          + ':g.' + str(int(row['Canonical_SPDI'].split(':')[1])+1)\n",
    "          + row['Canonical_SPDI'].split(':')[2] + '>' + row['Canonical_SPDI'].split(':')[3])\n",
    "ClinVar_pat_rs_coord_unmapped['DNA_coordinate'] = coordinates\n",
    "ClinVar_pat_rs_coord_unmapped"
   ]
  },
  {
   "cell_type": "markdown",
   "id": "0c1ec910",
   "metadata": {},
   "source": [
    "The 1st stage table includes 314 variants and the 2nd stage table includes 36 variants"
   ]
  },
  {
   "cell_type": "code",
   "execution_count": null,
   "id": "697a912f",
   "metadata": {},
   "outputs": [],
   "source": [
    "variants_pat = []\n",
    "passed_vars_pat = []\n",
    "indels_pat = []"
   ]
  },
  {
   "cell_type": "code",
   "execution_count": null,
   "id": "0b8c1f02",
   "metadata": {
    "scrolled": true
   },
   "outputs": [],
   "source": [
    "server = \"https://rest.ensembl.org\"\n",
    "\n",
    "count = 0\n",
    "for index, row in ClinVar_pat_rs_coord_unmapped.iterrows():\n",
    "    if row['Accession'] not in passed_vars:\n",
    "        variant_id = row['Accession']\n",
    "        ext = \"/vep/human/hgvs/\" + row['DNA_coordinate'] + \"?\"\n",
    "        r = requests.get(server+ext, headers={ \"Content-Type\" : \"application/json\"})\n",
    "        if not r.ok:\n",
    "            print(row['DNA_coordinate'])\n",
    "            indels_pat.append(row['DNA_coordinate'])\n",
    "            continue\n",
    " \n",
    "        variants_pat.append({'variant_id': variant_id, 'variant': r.json()})\n",
    "        time.sleep(1)\n",
    "        count = count + 1\n",
    "        print(str(count), ' -----> ', ext)"
   ]
  },
  {
   "cell_type": "code",
   "execution_count": null,
   "id": "e3e8c6aa",
   "metadata": {},
   "outputs": [],
   "source": [
    "coord_cons = []\n",
    "for var in variants_pat:\n",
    "    var_id = var['variant_id']\n",
    "    for trans in var['variant']:\n",
    "        coord = trans['id']\n",
    "        consequence = trans['most_severe_consequence']\n",
    "        coord_cons.append({'coordinate': coord, 'consequence': consequence, 'accession': var_id})\n",
    "pat_coord_cons_df = pd.DataFrame(coord_cons)\n",
    "pat_coord_cons_df.to_csv(\n",
    "    'ClinVar_pathogenic_unmapped_fetched_unfiltered.csv',\n",
    "    header=True, index=False)\n",
    "\n",
    "#The list of consequence types we desided to leave in the table\n",
    "consequence_type_list = ['missense_variant',\n",
    "                         'protein_altering_variant',\n",
    "                         'coding_sequence_variant',\n",
    "                         'frameshift_variant',\n",
    "                         'splice_donor_variant',\n",
    "                         'splice_acceptor_variant',\n",
    "                         'splice_donor_5th_base_variant',\n",
    "                         'start_lost',\n",
    "                         'stop_gained',\n",
    "                         'stop_lost',\n",
    "                         'inframe_deletion',\n",
    "                         'inframe_insertion']\n",
    "\n",
    "ClinVar_pat_unmapped_SNV_filtered = pat_coord_cons_df.query(\n",
    "    'consequence in @consequence_type_list').reset_index(drop=True)\n",
    "\n",
    "#Make them pretty for the inclusion into VCF\n",
    "ClinVar_pat_unmapped_SNV_filtered_listdict = []\n",
    "for index,row in ClinVar_pat_unmapped_SNV_filtered.iterrows():\n",
    "    chrom = row['coordinate'][:row['coordinate'].find(':')]\n",
    "    pos = row['coordinate'][row['coordinate'].find('.')+1:row['coordinate'].find('>')-1]\n",
    "    ref = row['coordinate'][row['coordinate'].find('>')-1]\n",
    "    alt = row['coordinate'][row['coordinate'].find('>')+1:]\n",
    "    accession = row['accession']\n",
    "    ClinVar_pat_unmapped_SNV_filtered_listdict.append({'chrom': chrom, 'pos': pos,\n",
    "                                             'ref': ref, 'alt': alt, 'accession': accession})\n",
    "ClinVar_pat_unmapped_SNV_filtered_df = pd.DataFrame(ClinVar_pat_unmapped_SNV_filtered_listdict)   \n",
    "ClinVar_pat_unmapped_SNV_filtered_df.to_csv(\n",
    "    'ClinVar_pat_unmapped_filtered_SNV_for_VCF.csv',\n",
    "    header=True, index=False)\n",
    "\n",
    "#filter the unmapped ClinVar table to contain just indels\n",
    "indel_pat_df = ClinVar_pat_rs_coord_unmapped.query('DNA_coordinate in @indels_pat').reset_index(drop=True)\n",
    "#Make them pretty for the inclusion into VCF\n",
    "df_dict_list = []\n",
    "for index,row in indel_pat_df.iterrows():\n",
    "    df_dict_list.append({'chrom' : str(int(row['GRCh38Chromosome'])), \n",
    "     'pos' : row['GRCh38Location'].split(' -')[0], \n",
    "     'ref' : row['Canonical_SPDI'].split(':')[2], \n",
    "     'alt' : row['Canonical_SPDI'].split(':')[3],\n",
    "                         'accession': row['Accession']})\n",
    "ClinVar_pat_indels = pd.DataFrame(df_dict_list)\n",
    "ClinVar_pat_indels.to_csv(\n",
    "    'ClinVar_pathogenic_indels.csv',\n",
    "    header=True, index=False)"
   ]
  },
  {
   "cell_type": "code",
   "execution_count": null,
   "id": "e99f4c32",
   "metadata": {},
   "outputs": [],
   "source": []
  }
 ],
 "metadata": {
  "kernelspec": {
   "display_name": "Python 3 (ipykernel)",
   "language": "python",
   "name": "python3"
  },
  "language_info": {
   "codemirror_mode": {
    "name": "ipython",
    "version": 3
   },
   "file_extension": ".py",
   "mimetype": "text/x-python",
   "name": "python",
   "nbconvert_exporter": "python",
   "pygments_lexer": "ipython3",
   "version": "3.7.12"
  }
 },
 "nbformat": 4,
 "nbformat_minor": 5
}
