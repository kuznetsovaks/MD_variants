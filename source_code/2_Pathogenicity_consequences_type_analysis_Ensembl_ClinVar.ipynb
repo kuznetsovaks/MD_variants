{
 "cells": [
  {
   "cell_type": "markdown",
   "id": "457c2a05",
   "metadata": {},
   "source": [
    "# Analysis of the distribution of pathogenisity categories in consequence types "
   ]
  },
  {
   "cell_type": "code",
   "execution_count": null,
   "id": "9ce656f6",
   "metadata": {},
   "outputs": [],
   "source": [
    "import pandas as pd\n",
    "import seaborn as sns\n",
    "import matplotlib.pyplot as plt"
   ]
  },
  {
   "cell_type": "markdown",
   "id": "069ea482",
   "metadata": {},
   "source": [
    "## 1. Import unfiltered Ensembl exon variant table that contains only variants from dbSNP"
   ]
  },
  {
   "cell_type": "code",
   "execution_count": null,
   "id": "366b4fb9",
   "metadata": {},
   "outputs": [],
   "source": [
    "#Unfiltered Ensembl variants\n",
    "#This file has been prodices dy the '1_Reference_Ensembl_table' notebook\n",
    "ens = pd.read_csv(\n",
    "    'MD_genes_exon_variants_Ens_unfiltered_dbSNP.csv',\n",
    "    converters={i: str for i in range(15)})\n",
    "ens"
   ]
  },
  {
   "cell_type": "code",
   "execution_count": null,
   "id": "fbff69eb",
   "metadata": {
    "scrolled": true
   },
   "outputs": [],
   "source": [
    "#Leave only variants with known clinical significance\n",
    "clin_sign = ens[ens['clinical_significance'] != '[]'].reset_index(drop=True)\n",
    "clin_sign"
   ]
  },
  {
   "cell_type": "markdown",
   "id": "0e045adc",
   "metadata": {},
   "source": [
    "## 2. Work with clinical significance types"
   ]
  },
  {
   "cell_type": "code",
   "execution_count": null,
   "id": "905eba69",
   "metadata": {},
   "outputs": [],
   "source": [
    "#Checking the consequences types\n",
    "clin_sign['consequence_type'].unique()"
   ]
  },
  {
   "cell_type": "code",
   "execution_count": null,
   "id": "ead482d9",
   "metadata": {},
   "outputs": [],
   "source": [
    "#replacing the column with the column containing lists and not strings\n",
    "new_clin_sig = []\n",
    "for sig in clin_sign['clinical_significance']:\n",
    "    new_clin_sig.append(sig.replace(\"'\", \"\").replace(\"[\", \"\").replace(\"]\", \"\").split(', '))\n",
    "clin_sign['clinical_significance'] = new_clin_sig\n",
    "clin_sign "
   ]
  },
  {
   "cell_type": "markdown",
   "id": "38bb69f4",
   "metadata": {},
   "source": [
    "## 3. Work with pathogenicity categories"
   ]
  },
  {
   "cell_type": "code",
   "execution_count": null,
   "id": "00479cfd",
   "metadata": {},
   "outputs": [],
   "source": [
    "clin_sig_types = []\n",
    "for sig in clin_sign['clinical_significance']:\n",
    "    for el in sig:\n",
    "        if el not in clin_sig_types:\n",
    "            clin_sig_types.append(el)"
   ]
  },
  {
   "cell_type": "code",
   "execution_count": null,
   "id": "f782b117",
   "metadata": {},
   "outputs": [],
   "source": [
    "clin_sig_types"
   ]
  },
  {
   "cell_type": "code",
   "execution_count": null,
   "id": "dd784e73",
   "metadata": {},
   "outputs": [],
   "source": [
    "consequence_types = clin_sign['consequence_type'].unique()"
   ]
  },
  {
   "cell_type": "code",
   "execution_count": null,
   "id": "8cfac464",
   "metadata": {},
   "outputs": [],
   "source": [
    "#creating and checking components for the matrix\n",
    "sig_dfs = []\n",
    "for sig_type in clin_sig_types:\n",
    "    df_one_sig_type = clin_sign[clin_sign.clinical_significance.apply(\n",
    "        lambda lst: all(x == sig_type for x in lst))].reset_index(drop=True)\n",
    "    sig_dfs.append(df_one_sig_type)\n",
    "    for cons_type in clin_sign['consequence_type'].unique():\n",
    "        print(sig_type, cons_type, len(df_one_sig_type[df_one_sig_type['consequence_type'] == cons_type])) "
   ]
  },
  {
   "cell_type": "code",
   "execution_count": null,
   "id": "59c9f1f7",
   "metadata": {},
   "outputs": [],
   "source": [
    "#creating the matrix \n",
    "\n",
    "matrix_colnames = ['significance']\n",
    "matrix_colnames.extend(consequence_types)\n",
    "matrix_rows = []\n",
    "\n",
    "print(matrix_colnames)\n",
    "\n",
    "sig_dfs = []\n",
    "for sig_type in clin_sig_types:\n",
    "    df_one_sig_type = clin_sign[clin_sign.clinical_significance.apply(\n",
    "        lambda lst: all(x == sig_type for x in lst))].reset_index(drop=True)\n",
    "    sig_dfs.append(df_one_sig_type)\n",
    "    matrix_row = [sig_type] + [len(df_one_sig_type[df_one_sig_type['consequence_type'] == cons_type]) for cons_type in consequence_types]\n",
    "    matrix_rows.append(matrix_row)\n",
    "    \n",
    "matrix_df = pd.DataFrame(columns=matrix_colnames, data=matrix_rows)\n",
    "matrix_df"
   ]
  },
  {
   "cell_type": "markdown",
   "id": "7b78e717",
   "metadata": {},
   "source": [
    "## 4. Heat map"
   ]
  },
  {
   "cell_type": "code",
   "execution_count": null,
   "id": "b287a321",
   "metadata": {},
   "outputs": [],
   "source": [
    "matrix = matrix_df.set_index('significance')\n",
    "matrix"
   ]
  },
  {
   "cell_type": "code",
   "execution_count": null,
   "id": "e8205f74",
   "metadata": {},
   "outputs": [],
   "source": [
    "matrix.index.values.tolist()"
   ]
  },
  {
   "cell_type": "code",
   "execution_count": null,
   "id": "1b77d7ff",
   "metadata": {},
   "outputs": [],
   "source": [
    "# Heatmap with all the categories and absolute values\n",
    "sns.heatmap(matrix, cmap=\"YlGnBu\")"
   ]
  },
  {
   "cell_type": "code",
   "execution_count": null,
   "id": "9ccc37b8",
   "metadata": {},
   "outputs": [],
   "source": [
    "#normalized by consequence\n",
    "\n",
    "df_norm_row = matrix.apply(lambda x: (x)*100/x.sum(), axis = 0)\n",
    "\n",
    "sns.heatmap(df_norm_row, cmap=\"YlGnBu\")"
   ]
  },
  {
   "cell_type": "code",
   "execution_count": null,
   "id": "d6619b6b",
   "metadata": {},
   "outputs": [],
   "source": [
    "#Gettin rid of the variants with uncertain significance and the categories with almost no values\n",
    "short = matrix.loc[['pathogenic', 'likely pathogenic', 'likely benign', 'benign']]\n",
    "short"
   ]
  },
  {
   "cell_type": "code",
   "execution_count": null,
   "id": "793ecea8",
   "metadata": {},
   "outputs": [],
   "source": [
    "#Ordering the columns in a prettier way \n",
    "short_short = short[['protein_altering_variant', 'coding_sequence_variant','missense_variant',\n",
    "                     'frameshift_variant', 'stop_gained', \n",
    "                     'splice_donor_variant', 'splice_acceptor_variant', 'splice_region_variant', \n",
    "                     'splice_polypyrimidine_tract_variant', 'splice_donor_5th_base_variant',\n",
    "                     '3_prime_UTR_variant', '5_prime_UTR_variant', 'stop_lost', 'start_lost', 'stop_retained_variant',\n",
    "                     'inframe_deletion', 'inframe_insertion', \n",
    "                     'non_coding_transcript_exon_variant', 'synonymous_variant']]\n",
    "short_short"
   ]
  },
  {
   "cell_type": "code",
   "execution_count": null,
   "id": "cd09d185",
   "metadata": {},
   "outputs": [],
   "source": [
    "sns.heatmap(short_short, cmap=\"YlGnBu\")"
   ]
  },
  {
   "cell_type": "code",
   "execution_count": null,
   "id": "5e9abf11",
   "metadata": {
    "scrolled": true
   },
   "outputs": [],
   "source": [
    "#normalized by consequence\n",
    "\n",
    "df_norm_row = short_short.apply(lambda x: (x)*100/x.sum(), axis = 0)\n",
    "\n",
    "sns.heatmap(df_norm_row, cmap=\"YlGnBu\")"
   ]
  },
  {
   "cell_type": "code",
   "execution_count": null,
   "id": "85020909",
   "metadata": {
    "scrolled": true
   },
   "outputs": [],
   "source": [
    "sns.heatmap(df_norm_row, cmap=\"YlGnBu\")\n",
    "\n",
    "plt.savefig(\n",
    "    'pathogenicity_Ensembl_heatmat_norm.svg',\n",
    "    format='svg', bbox_inches=\"tight\")"
   ]
  },
  {
   "cell_type": "markdown",
   "id": "47196171",
   "metadata": {},
   "source": [
    "# Analysis of the distribution of pathogenisity categories in consequence types in the dataset of the variants associated with any phenotype"
   ]
  },
  {
   "cell_type": "markdown",
   "id": "0820db85",
   "metadata": {},
   "source": [
    "## 5. Now the same procedure, but for the variants exported from ClinVar"
   ]
  },
  {
   "cell_type": "markdown",
   "id": "371d9617",
   "metadata": {},
   "source": [
    "These variants are exported from ClinVar for all phenotypes"
   ]
  },
  {
   "cell_type": "code",
   "execution_count": null,
   "id": "5d16a21a",
   "metadata": {
    "scrolled": true
   },
   "outputs": [],
   "source": [
    "ClinVar = pd.read_csv('All_ClinVar.csv')\n",
    "ClinVar"
   ]
  },
  {
   "cell_type": "code",
   "execution_count": null,
   "id": "b4d81bef",
   "metadata": {},
   "outputs": [],
   "source": [
    "#Checking what consequence types are there\n",
    "ClinVar['Molecular consequences'].unique()"
   ]
  },
  {
   "cell_type": "code",
   "execution_count": null,
   "id": "c5167392",
   "metadata": {},
   "outputs": [],
   "source": [
    "new_cons = []\n",
    "for cons in ClinVar['Molecular consequences']:\n",
    "    [i for i in cons.split(',') if i]\n",
    "    new_cons.append([i for i in cons.split(',') if i])\n",
    "new_cons "
   ]
  },
  {
   "cell_type": "code",
   "execution_count": null,
   "id": "16a62c13",
   "metadata": {
    "scrolled": true
   },
   "outputs": [],
   "source": [
    "ClinVar = ClinVar.rename(columns={\"Molecular consequences\": \"molecular_consequences\", \n",
    "                            \"Most severe clinical significance\": \"clinical_significance\"})\n",
    "ClinVar['molecular_consequences'] = new_cons\n",
    "ClinVar"
   ]
  },
  {
   "cell_type": "code",
   "execution_count": null,
   "id": "b0b35c00",
   "metadata": {},
   "outputs": [],
   "source": [
    "cons_types = []\n",
    "for con in ClinVar['molecular_consequences']:\n",
    "    for el in con:\n",
    "        if el not in cons_types:\n",
    "            cons_types.append(el)\n",
    "cons_types"
   ]
  },
  {
   "cell_type": "code",
   "execution_count": null,
   "id": "1bfea3ff",
   "metadata": {},
   "outputs": [],
   "source": [
    "clin_sig_types = ClinVar['clinical_significance'].unique()\n",
    "clin_sig_types"
   ]
  },
  {
   "cell_type": "code",
   "execution_count": null,
   "id": "ab82fdbb",
   "metadata": {
    "scrolled": true
   },
   "outputs": [],
   "source": [
    "matrix_colnames = ['consequence']\n",
    "matrix_colnames.extend(clin_sig_types)\n",
    "matrix_rows = []\n",
    "\n",
    "print(matrix_colnames)\n",
    "\n",
    "sig_dfs = []\n",
    "for cons_type in cons_types:\n",
    "    df_one_cons_type = ClinVar[ClinVar.molecular_consequences.apply(\n",
    "        lambda lst: all(x == cons_type for x in lst))].reset_index(drop=True)\n",
    "    sig_dfs.append(df_one_cons_type)\n",
    "    matrix_row = [cons_type] + [ len(df_one_cons_type[df_one_cons_type['clinical_significance'] == clin_sig_type]) for clin_sig_type in clin_sig_types ]\n",
    "    matrix_rows.append(matrix_row)\n",
    "   \n",
    "matrix_df = pd.DataFrame(columns=matrix_colnames, data=matrix_rows)\n",
    "matrix = matrix_df.set_index('consequence').transpose()\n",
    "matrix"
   ]
  },
  {
   "cell_type": "code",
   "execution_count": null,
   "id": "25f0f4fe",
   "metadata": {},
   "outputs": [],
   "source": [
    "sns.heatmap(matrix, cmap=\"YlGnBu\")"
   ]
  },
  {
   "cell_type": "code",
   "execution_count": null,
   "id": "be728330",
   "metadata": {},
   "outputs": [],
   "source": [
    "#normalized by consequence\n",
    "\n",
    "df_norm_row = matrix.apply(lambda x: (x)*100/x.sum(), axis = 0)\n",
    "sns.heatmap(df_norm_row, cmap=\"YlGnBu\")"
   ]
  },
  {
   "cell_type": "code",
   "execution_count": null,
   "id": "98f227ec",
   "metadata": {},
   "outputs": [],
   "source": [
    "short_CV = matrix.loc[['pathogenic', 'likely-pathogenic', \n",
    "                'likely-benign', 'benign', \n",
    "                'risk-factor', 'conflicting-interpretations-of-pathogenicity']]\n",
    "short_CV"
   ]
  },
  {
   "cell_type": "code",
   "execution_count": null,
   "id": "0dadc7c9",
   "metadata": {},
   "outputs": [],
   "source": [
    "short_short_CV = short_CV[['missense variant',\n",
    "                     'frameshift variant',\n",
    "                     'splice donor variant',\n",
    "                     'splice acceptor variant',\n",
    "                     'nonsense (stop gained)',\n",
    "                     'stop lost',\n",
    "                     '3 prime UTR variant',\n",
    "                     '5 prime UTR variant',\n",
    "                     'nc transcript variant',\n",
    "                     '2KB upstream variant',\n",
    "                     '500B downstream variant',\n",
    "                     'synonymous variant']]\n",
    "short_short"
   ]
  },
  {
   "cell_type": "code",
   "execution_count": null,
   "id": "f16e8c5d",
   "metadata": {},
   "outputs": [],
   "source": [
    "#normalized by consequence\n",
    "\n",
    "df_norm_row = short_short_CV.apply(lambda x: (x)*100/x.sum(), axis = 0)\n",
    "sns.heatmap(df_norm_row, cmap=\"YlGnBu\")"
   ]
  },
  {
   "cell_type": "code",
   "execution_count": null,
   "id": "d95f4478",
   "metadata": {},
   "outputs": [],
   "source": [
    "sns.heatmap(df_norm_row, cmap=\"YlGnBu\")\n",
    "\n",
    "plt.savefig(\n",
    "    'pathogenicity_ClinVar_heatmat_normalized.svg', \n",
    "    format='svg', bbox_inches=\"tight\")"
   ]
  }
 ],
 "metadata": {
  "kernelspec": {
   "display_name": "Python 3 (ipykernel)",
   "language": "python",
   "name": "python3"
  },
  "language_info": {
   "codemirror_mode": {
    "name": "ipython",
    "version": 3
   },
   "file_extension": ".py",
   "mimetype": "text/x-python",
   "name": "python",
   "nbconvert_exporter": "python",
   "pygments_lexer": "ipython3",
   "version": "3.9.10"
  }
 },
 "nbformat": 4,
 "nbformat_minor": 5
}
