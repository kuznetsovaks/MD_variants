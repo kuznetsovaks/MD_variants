{
 "cells": [
  {
   "cell_type": "markdown",
   "id": "a56d3a8e",
   "metadata": {},
   "source": [
    "# Takes tables with VCF data on the variants of two levels and plots them to the protein sequence for each isoform"
   ]
  },
  {
   "cell_type": "code",
   "execution_count": null,
   "id": "bccb7beb",
   "metadata": {},
   "outputs": [],
   "source": [
    "import pandas as pd\n",
    "from pyteomics import fasta\n",
    "from numpy import nan\n",
    "\n",
    "import matplotlib.colors as mcolors\n",
    "from matplotlib import pyplot as plt, patches\n",
    "from matplotlib.patches import Rectangle\n",
    "from matplotlib.gridspec import GridSpec"
   ]
  },
  {
   "cell_type": "markdown",
   "id": "ce6cff7c",
   "metadata": {},
   "source": [
    "## 1. Table with all the variants ('level 1 table')"
   ]
  },
  {
   "cell_type": "markdown",
   "id": "b5e07894",
   "metadata": {},
   "source": [
    "Creating a table that contains transcript and protein IDs along with gene names, protein sequences (unmodified) and protein descriptions taken from FASTA. For these purpose canonical proteome fasta with all isoforms downloaded from Ensembl is used. "
   ]
  },
  {
   "cell_type": "markdown",
   "id": "14269962",
   "metadata": {},
   "source": [
    "Also creating an 'info' table that contains the number of transcripts and the number of variants belonging to each gene name. This is useful to have in ordet to estimete how each plot will look like in the end. "
   ]
  },
  {
   "cell_type": "code",
   "execution_count": null,
   "id": "17cd2482",
   "metadata": {},
   "outputs": [],
   "source": [
    "table = pd.read_table(\n",
    "    'results/MD_var_level1_unfiltered.tsv')\n",
    "table = table.rename(columns={\"transcriptID\": \"transcript_id\"})\n",
    "transcripts = table['transcript_id'].tolist()\n",
    "\n",
    "data_names = []\n",
    "with fasta.read(\n",
    "    'input/ensembl_reference_proteinDB_tagged.fa') as f:\n",
    "    for prot in f:\n",
    "        transcript_ID = prot.description.split('transcript:')[1].split('.')[0]\n",
    "        proteinID = prot.description.replace('.', '|').split('|')[1]\n",
    "        for item in transcripts:\n",
    "            if item == transcript_ID:\n",
    "                if 'gene_symbol:' in prot.description:\n",
    "                    gene_name = prot.description.split('gene_symbol:')[1].split(' ')[0]\n",
    "                    data_names.append({'transcript_id': transcript_ID, \n",
    "                                       'gene_name': gene_name, \n",
    "                                       'description': prot.description,\n",
    "                                       'unmodified_sequence': prot.sequence,\n",
    "                                       'protein_id': proteinID})\n",
    "                        \n",
    "                        \n",
    "name_frame = pd.DataFrame(data_names).drop_duplicates().reset_index(drop=True)\n",
    "table_names = pd.merge(table, name_frame, how='outer', on = 'transcript_id').replace(nan, '')\n",
    "var_gene_names = table_names[table_names['gene_name'] != ''].reset_index(drop=True)\n",
    "\n",
    "#######\n",
    "info = []\n",
    "genes = var_gene_names['gene_name'].unique()\n",
    "for gene in genes:\n",
    "    info.append({'gene': gene, 'transcripts': \n",
    "                 len(var_gene_names[var_gene_names['gene_name'] == gene]['transcript_id'].unique()), 'variants':\n",
    "                 len(var_gene_names[var_gene_names['gene_name'] == gene]['protein_change'].unique())})\n",
    "info_df = pd.DataFrame(info)\n",
    "info_df.to_csv(\n",
    "    'info_level1_prot.csv',\n",
    "    header=True, index=False)\n",
    "#######\n",
    "\n",
    "var_gene_names.to_csv(\n",
    "    'all_variants_gene_names_prot_level1.csv',\n",
    "    header=True, index=False)\n"
   ]
  },
  {
   "cell_type": "code",
   "execution_count": null,
   "id": "68359199",
   "metadata": {
    "scrolled": true
   },
   "outputs": [],
   "source": [
    "var_gene_names"
   ]
  },
  {
   "cell_type": "code",
   "execution_count": null,
   "id": "eb80390c",
   "metadata": {},
   "outputs": [],
   "source": [
    "var_gene_names[var_gene_names['reading_frame'] == -1]"
   ]
  },
  {
   "cell_type": "code",
   "execution_count": null,
   "id": "17919f2a",
   "metadata": {
    "scrolled": true
   },
   "outputs": [],
   "source": [
    "info_df"
   ]
  },
  {
   "cell_type": "markdown",
   "id": "9258203b",
   "metadata": {},
   "source": [
    "## 2. The same for the 'level 2' more confident filtered variants"
   ]
  },
  {
   "cell_type": "code",
   "execution_count": null,
   "id": "b18248e7",
   "metadata": {},
   "outputs": [],
   "source": [
    "table2 = pd.read_table('results/MD_var_level2_unfiltered.tsv')\n",
    "table2 = table2.rename(columns={\"transcriptID\": \"transcript_id\"})\n",
    "transcripts2 = table2['transcript_id'].tolist()\n",
    "\n",
    "\n",
    "data_names2 = []\n",
    "with fasta.read('input/ensembl_reference_proteinDB_tagged.fa') as f:\n",
    "    for prot in f:\n",
    "        transcript_ID = prot.description.split('transcript:')[1].split('.')[0]\n",
    "        proteinID = prot.description.replace('.', '|').split('|')[1]\n",
    "        for item in transcripts2:\n",
    "            if item == transcript_ID:\n",
    "                if 'gene_symbol:' in prot.description:\n",
    "                    gene_name = prot.description.split('gene_symbol:')[1].split(' ')[0]\n",
    "                    data_names2.append({'transcript_id': transcript_ID, \n",
    "                                       'gene_name': gene_name, \n",
    "                                       'description': prot.description,\n",
    "                                       'unmodified_sequence': prot.sequence, \n",
    "                                       'protein_id': proteinID})\n",
    "                        \n",
    "                        \n",
    "name_frame2 = pd.DataFrame(data_names2).drop_duplicates().reset_index(drop=True)\n",
    "table_names2 = pd.merge(table2, name_frame2, how='outer', on = 'transcript_id').replace(nan, '')\n",
    "var_gene_names2 = table_names2[table_names2['gene_name'] != ''].reset_index(drop=True)\n",
    "\n",
    "#######\n",
    "info2 = []\n",
    "genes2 = var_gene_names['gene_name'].unique()\n",
    "for gene in genes2:\n",
    "    info2.append({'gene': gene, 'transcripts': \n",
    "                 len(var_gene_names[var_gene_names['gene_name'] == gene]['transcript_id'].unique()), 'variants':\n",
    "                 len(var_gene_names[var_gene_names['gene_name'] == gene]['protein_change'].unique())})\n",
    "info_df2 = pd.DataFrame(info2)\n",
    "info_df2.to_csv('intermediate/info_level2_prot.csv', header=True, index=False)\n",
    "#######\n",
    "\n",
    "var_gene_names2.to_csv('intermediate/all_variants_gene_names_prot_level2.csv', header=True, index=False)\n"
   ]
  },
  {
   "cell_type": "markdown",
   "id": "f95a35c7",
   "metadata": {},
   "source": [
    "## 3. Plotting data from two tables in one plot"
   ]
  },
  {
   "cell_type": "code",
   "execution_count": null,
   "id": "17a8b3b4",
   "metadata": {},
   "outputs": [],
   "source": [
    "# In case the \n",
    "info_df = pd.read_csv(\n",
    "    'intermediate/info_level1_prot.csv')\n",
    "var_gene_names = pd.read_csv(\n",
    "    'intermediate/all_variants_gene_names_prot_level1.csv')\n",
    "info_df2 = pd.read_csv(\n",
    "    'intermediate/info_level2_prot.csv')\n",
    "var_gene_names2 = pd.read_csv(\n",
    "    'intermediate/all_variants_gene_names_prot_level2.csv')"
   ]
  },
  {
   "cell_type": "code",
   "execution_count": null,
   "id": "4246fb73",
   "metadata": {},
   "outputs": [],
   "source": [
    "# Genes present in both levels\n",
    "genes = var_gene_names2['gene_name'].unique()\n",
    "genes"
   ]
  },
  {
   "cell_type": "code",
   "execution_count": null,
   "id": "b106542b",
   "metadata": {
    "scrolled": true
   },
   "outputs": [],
   "source": [
    "# Creating plots for the genes present in both levels. These plots will have two rows of dots: one for each level.\n",
    "# code for all the genes\n",
    "\n",
    "for gene in genes:\n",
    "    gene_df = var_gene_names[var_gene_names['gene_name'] == gene]\n",
    "    gene_df2 = var_gene_names2[var_gene_names2['gene_name'] == gene]\n",
    "\n",
    "    number_of_transcr = int(info_df['transcripts'][info_df['gene'] == gene])\n",
    "    fig = plt.figure(figsize=(55, (number_of_transcr * 2 - 1)), constrained_layout=True)\n",
    "    gs = GridSpec(number_of_transcr, 1, figure=fig)\n",
    "\n",
    "    pos_of_subplot = 0\n",
    "    for proteinID in gene_df2['protein_id'].unique().tolist():\n",
    "        single_prot_df = gene_df[gene_df['protein_id'] == proteinID].reset_index(drop=True)\n",
    "        sequence = single_prot_df['unmodified_sequence'][0]\n",
    "        protein_change = single_prot_df['protein_change'].drop_duplicates().tolist()\n",
    "        protein_change.sort(key = lambda x: int(x.split(':')[0]))\n",
    "\n",
    "        ### position1\n",
    "        sequence_pos = []\n",
    "        sequence = single_prot_df['unmodified_sequence'][0]\n",
    "        for change in protein_change:\n",
    "            if change[0] != '-':\n",
    "                pos = int(change.split(':')[0]) + 1\n",
    "                #if sequence[:pos][-1] != change.replace('>', ':').split(':')[1]:\n",
    "                    #print(transcriptID, ' ', change)\n",
    "                if pos not in sequence_pos:\n",
    "                    sequence_pos.append(pos)\n",
    "        if sequence_pos == []: continue\n",
    "\n",
    "        single_prot_df2 = gene_df2[gene_df2['protein_id'] == proteinID].reset_index(drop=True)\n",
    "        sequence2 = single_prot_df2['unmodified_sequence'][0]\n",
    "        prot_change2 = single_prot_df2['protein_change'].drop_duplicates().tolist()\n",
    "        prot_change2.sort(key = lambda x: int(x.split(':')[0]))\n",
    "\n",
    "        ### position2\n",
    "        sequence_pos2 = []\n",
    "        sequence2 = single_prot_df2['unmodified_sequence'][0]\n",
    "        for change in prot_change2:\n",
    "            if change[0] != '-':\n",
    "                pos2 = int(change.split(':')[0]) + 1\n",
    "                if pos2 not in sequence_pos2:\n",
    "                    sequence_pos2.append(pos2)\n",
    "        if sequence_pos2 == []: continue\n",
    "\n",
    "        y_numbers = str(1) * len(sequence_pos)\n",
    "        y_int_number_list = []\n",
    "        for el in y_numbers:\n",
    "            y_int_number_list.append(int(el))\n",
    "        y_numbers_2 = str(2) * len(sequence_pos2)\n",
    "        y_numbers_2_list = []\n",
    "        for el in y_numbers_2:\n",
    "            y_numbers_2_list.append(int(el))\n",
    "\n",
    "        ax = fig.add_subplot(gs[pos_of_subplot, :])    \n",
    "        ax.scatter(sequence_pos, y_int_number_list, s=20, label=\"all_var\", color='darkcyan')\n",
    "        ax.scatter(sequence_pos2, y_numbers_2_list, s=20, label=\"short_list\", color='navy')\n",
    "        ax.add_patch(Rectangle((0, 1.2), max(sequence_pos), 0.6, color='gold'))\n",
    "        ax.yaxis.set_visible(False)\n",
    "        ax.spines[[\"left\", \"top\", \"right\", \"bottom\"]].set_visible(False)\n",
    "        ax.text(0.5, 0.5, proteinID, fontsize=18)\n",
    "        ax.tick_params(labelsize=18)\n",
    "        pos_of_subplot = pos_of_subplot + 1\n",
    "\n",
    "    fig.savefig(\n",
    "        'figures/' + \n",
    "        gene + '_protein.png', dpi=300, format='png')\n",
    "    print(gene)\n",
    "    plt.close('all')"
   ]
  },
  {
   "cell_type": "markdown",
   "id": "73814362",
   "metadata": {},
   "source": [
    "## 4. Plotting the rest of genes from the level1 table without the level2 variants"
   ]
  },
  {
   "cell_type": "markdown",
   "id": "2c6bb350",
   "metadata": {},
   "source": [
    "These plots will have just one row of dots"
   ]
  },
  {
   "cell_type": "code",
   "execution_count": null,
   "id": "14ca7ebc",
   "metadata": {
    "scrolled": true
   },
   "outputs": [],
   "source": [
    "level1_only_genes = set(var_gene_names['gene_name'].unique()) - set(var_gene_names2['gene_name'].unique())\n",
    "level1_only_genes"
   ]
  },
  {
   "cell_type": "code",
   "execution_count": null,
   "id": "705755d6",
   "metadata": {},
   "outputs": [],
   "source": [
    "for gene in level1_only_genes:\n",
    "    gene_df = var_gene_names[var_gene_names['gene_name'] == gene]\n",
    "\n",
    "    number_of_transcr = int(info_df['transcripts'][info_df['gene'] == gene])\n",
    "    fig = plt.figure(figsize=(55, (number_of_transcr * 2 - 1)), constrained_layout=True)\n",
    "    gs = GridSpec(number_of_transcr, 1, figure=fig)\n",
    "\n",
    "    pos_of_subplot = 0\n",
    "    for proteinID in gene_df['protein_id'].unique().tolist():\n",
    "        single_prot_df = gene_df[gene_df['protein_id'] == proteinID].reset_index(drop=True)\n",
    "        sequence = single_prot_df['unmodified_sequence'][0]\n",
    "        prot_change = single_prot_df['protein_change'].drop_duplicates().tolist()\n",
    "        prot_change.sort(key = lambda x: int(x.split(':')[0]))\n",
    "\n",
    "        ### position1\n",
    "        sequence_pos = []\n",
    "        sequence = single_prot_df['unmodified_sequence'][0]\n",
    "        for change in prot_change:\n",
    "            if change[0] != '-':\n",
    "                pos = int(change.split(':')[0]) + 1\n",
    "                if pos not in sequence_pos:\n",
    "                    sequence_pos.append(pos)\n",
    "        if sequence_pos == []: continue\n",
    "\n",
    "        y_numbers = str(1) * len(sequence_pos)\n",
    "        y_int_number_list = []\n",
    "        for el in y_numbers:\n",
    "            y_int_number_list.append(int(el))\n",
    "\n",
    "        ax = fig.add_subplot(gs[pos_of_subplot, :])    \n",
    "        ax.scatter(sequence_pos, y_int_number_list, s=20, label=\"all_var\", color='darkcyan')\n",
    "        ax.add_patch(Rectangle((0, 1.2), max(sequence_pos), 0.6, color='gold'))\n",
    "        ax.yaxis.set_visible(False)\n",
    "        ax.spines[[\"left\", \"top\", \"right\", \"bottom\"]].set_visible(False)\n",
    "        ax.text(0.5, 0.5, proteinID, fontsize=18)\n",
    "        ax.tick_params(labelsize=18)\n",
    "        pos_of_subplot = pos_of_subplot + 1\n",
    "\n",
    "    fig.savefig(\n",
    "        'figures/' + \n",
    "        gene + '_protein.png', dpi=300, format='png')\n",
    "    print(gene)\n",
    "    plt.close('all')\n"
   ]
  },
  {
   "cell_type": "code",
   "execution_count": null,
   "id": "becfe1b6",
   "metadata": {},
   "outputs": [],
   "source": []
  }
 ],
 "metadata": {
  "kernelspec": {
   "display_name": "Python 3 (ipykernel)",
   "language": "python",
   "name": "python3"
  },
  "language_info": {
   "codemirror_mode": {
    "name": "ipython",
    "version": 3
   },
   "file_extension": ".py",
   "mimetype": "text/x-python",
   "name": "python",
   "nbconvert_exporter": "python",
   "pygments_lexer": "ipython3",
   "version": "3.9.10"
  }
 },
 "nbformat": 4,
 "nbformat_minor": 5
}
