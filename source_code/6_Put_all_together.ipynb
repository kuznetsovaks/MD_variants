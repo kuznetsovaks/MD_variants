{
 "cells": [
  {
   "cell_type": "markdown",
   "id": "2f444a7c",
   "metadata": {},
   "source": [
    "# Analyse the resulting tables and concatenate them together "
   ]
  },
  {
   "cell_type": "code",
   "execution_count": null,
   "id": "fc9a526b",
   "metadata": {},
   "outputs": [],
   "source": [
    "import pandas as pd\n",
    "#import matplotlib.pyplot as plt\n",
    "from matplotlib_venn import venn2, venn3\n",
    "from matplotlib import pyplot as plt\n",
    "from numpy import nan\n",
    "import ast"
   ]
  },
  {
   "cell_type": "markdown",
   "id": "f3b410cb",
   "metadata": {},
   "source": [
    "## 1. Large tables :"
   ]
  },
  {
   "cell_type": "markdown",
   "id": "7d0a0945",
   "metadata": {},
   "source": [
    "ClinVar 1st stage of mapping (to Ensembl using rs identifiers)"
   ]
  },
  {
   "cell_type": "markdown",
   "id": "1e28209a",
   "metadata": {},
   "source": [
    "ClinVar 2nd stage of mapping (to Ensembl using coordinates)"
   ]
  },
  {
   "cell_type": "markdown",
   "id": "cd98e3e9",
   "metadata": {},
   "source": [
    "ClinVar 3rd - fetched SNVs (the variants for which the molecular consequences have been fetched) <- ready to concat"
   ]
  },
  {
   "cell_type": "markdown",
   "id": "16f7338c",
   "metadata": {},
   "source": [
    "ClinVar indels edded unfiltered (actually this contains some SNPs as well, no reason identified) <- ready to concat"
   ]
  },
  {
   "cell_type": "markdown",
   "id": "0f9eeacd",
   "metadata": {},
   "source": [
    "Rafique 1st stage of annotatopn (with Vcfanno)"
   ]
  },
  {
   "cell_type": "markdown",
   "id": "61a8105d",
   "metadata": {},
   "source": [
    "Rafique 2nd stage of annotatopn (with PubMed)"
   ]
  },
  {
   "cell_type": "markdown",
   "id": "f25a0390",
   "metadata": {},
   "source": [
    "Rafique manual annotation"
   ]
  },
  {
   "cell_type": "code",
   "execution_count": null,
   "id": "c81cb3ca",
   "metadata": {
    "scrolled": true
   },
   "outputs": [],
   "source": [
    "#ClinVar 1st stage of mapping (to Ensembl using rs identifiers)\n",
    "\n",
    "ClinVar_1st = pd.read_csv('intermediate/ClinVar_mapped_to_Ens_1st.csv')\n",
    "ClinVar_1st"
   ]
  },
  {
   "cell_type": "code",
   "execution_count": null,
   "id": "74de2d2d",
   "metadata": {},
   "outputs": [],
   "source": [
    "#how many variants in it\n",
    "\n",
    "len(ClinVar_1st['id'].unique())"
   ]
  },
  {
   "cell_type": "code",
   "execution_count": null,
   "id": "aa752188",
   "metadata": {},
   "outputs": [],
   "source": [
    "#list of varinat isd in it\n",
    "\n",
    "ClinVar_1st_list = ClinVar_1st['id'].unique().tolist()\n",
    "ClinVar_1st_list"
   ]
  },
  {
   "cell_type": "code",
   "execution_count": null,
   "id": "cb2ddedd",
   "metadata": {
    "scrolled": true
   },
   "outputs": [],
   "source": [
    "#ClinVar 2nd stage of mapping (to Ensembl using coordinates)\n",
    "\n",
    "ClinVar_2nd = pd.read_csv('intermediate/ClinVar_mapped_to_Ens_2nd.csv')\n",
    "ClinVar_2nd"
   ]
  },
  {
   "cell_type": "code",
   "execution_count": null,
   "id": "bbb31cad",
   "metadata": {},
   "outputs": [],
   "source": [
    "##how many variants in it\n",
    "\n",
    "len(ClinVar_2nd['id'].unique())"
   ]
  },
  {
   "cell_type": "code",
   "execution_count": null,
   "id": "6a13afb5",
   "metadata": {},
   "outputs": [],
   "source": [
    "#list of varinat isd in it\n",
    "\n",
    "ClinVar_2nd_list = ClinVar_2nd['id'].unique().tolist()\n",
    "ClinVar_2nd_list"
   ]
  },
  {
   "cell_type": "code",
   "execution_count": null,
   "id": "33439dcf",
   "metadata": {},
   "outputs": [],
   "source": [
    "#do they intersect?\n",
    "\n",
    "venn2(subsets = (set(ClinVar_1st_list), set(ClinVar_2nd_list)), set_labels = ('ClinVar_1st', 'ClinVar_2nd'), \n",
    "      set_colors = (\"gold\", \"royalblue\"), alpha=1)\n",
    "plt.show()\n",
    "#they intersect juct by 8 variants which is good :)\n",
    "#Save the diagram in high quality\n",
    "#plt.savefig('/Users/ksenia/Documents/MODY_genes/pipeline_october2022/ClinVar_1st_2nd_intersect.png', dpi=300)"
   ]
  },
  {
   "cell_type": "code",
   "execution_count": null,
   "id": "e75a1630",
   "metadata": {},
   "outputs": [],
   "source": [
    "#Everything from ClinVar mapped to Ensembl\n",
    "\n",
    "ClinVar_Ens = pd.concat([ClinVar_1st, ClinVar_2nd]).drop_duplicates().reset_index(drop=True)\n",
    "ClinVar_Ens"
   ]
  },
  {
   "cell_type": "code",
   "execution_count": null,
   "id": "cf2a8895",
   "metadata": {},
   "outputs": [],
   "source": [
    "#creating yhr columns for VCF\n",
    "\n",
    "ClinVar_Ens_VCF = []\n",
    "for index, row in ClinVar_Ens.iterrows():\n",
    "    ClinVar_Ens_VCF.append({'chrom': row['coordinate'].replace('>', ':').split(':')[0],\n",
    "     'pos': row['coordinate'].replace('>', ':').split(':')[1],\n",
    "     'ref': row['coordinate'].replace('>', ':').split(':')[2],\n",
    "     'alt': row['coordinate'].replace('>', ':').split(':')[3],\n",
    "     'accession': row['id']})\n",
    "ClinVar_Ens_VCF_df = pd.DataFrame(ClinVar_Ens_VCF)\n",
    "ClinVar_Ens_VCF_df"
   ]
  },
  {
   "cell_type": "code",
   "execution_count": null,
   "id": "c1959a0c",
   "metadata": {},
   "outputs": [],
   "source": [
    "len(ClinVar_Ens['id'].unique())"
   ]
  },
  {
   "cell_type": "code",
   "execution_count": null,
   "id": "49a9d5b9",
   "metadata": {},
   "outputs": [],
   "source": [
    "ClinVar_Ens_list = ClinVar_Ens['coordinate'].unique().tolist()\n",
    "len(ClinVar_Ens_list)"
   ]
  },
  {
   "cell_type": "markdown",
   "id": "3d703bb0",
   "metadata": {},
   "source": [
    "ClinVar 3rd - fetched SNVs (the variants for which the molecular consequences have been fetched) <- ready to concat"
   ]
  },
  {
   "cell_type": "code",
   "execution_count": null,
   "id": "f16b8551",
   "metadata": {
    "scrolled": true
   },
   "outputs": [],
   "source": [
    "ClinVar_3rd = pd.read_csv(\n",
    "    'intermediate/ClinVar_unmapped_filtered_SNV_for_VCF.csv')\n",
    "ClinVar_3rd"
   ]
  },
  {
   "cell_type": "code",
   "execution_count": null,
   "id": "b794e3a1",
   "metadata": {},
   "outputs": [],
   "source": [
    "len(ClinVar_3rd['accession'].unique())"
   ]
  },
  {
   "cell_type": "code",
   "execution_count": null,
   "id": "bb74262e",
   "metadata": {
    "scrolled": true
   },
   "outputs": [],
   "source": [
    "ClinVar_3rd_list = [] \n",
    "for index, row in ClinVar_3rd.iterrows():\n",
    "    ClinVar_3rd_list.append(str(row['chrom']) + ':' + str(row['pos']) + ':' + row['ref'] + '>' + row['alt']) \n",
    "ClinVar_3rd_list"
   ]
  },
  {
   "cell_type": "code",
   "execution_count": null,
   "id": "837a3beb",
   "metadata": {
    "scrolled": true
   },
   "outputs": [],
   "source": [
    "#ClinVar indels edded unfiltered (actually this contains some SNPs as well, no reason identified) <- ready to concat\n",
    "\n",
    "ClinVar_indels = pd.read_csv(\n",
    "    'intermediate/ClinVar_indels.csv')\n",
    "ClinVar_indels = ClinVar_indels.replace(nan, '')\n",
    "ClinVar_indels"
   ]
  },
  {
   "cell_type": "code",
   "execution_count": null,
   "id": "8562a071",
   "metadata": {},
   "outputs": [],
   "source": [
    "len(ClinVar_indels['accession'].unique())"
   ]
  },
  {
   "cell_type": "code",
   "execution_count": null,
   "id": "9e02a6a8",
   "metadata": {},
   "outputs": [],
   "source": [
    "ClinVar_indels_list = [] \n",
    "for index, row in ClinVar_indels.iterrows():\n",
    "    ClinVar_indels_list.append(str(row['chrom']) + ':' + str(row['pos']) + ':' + row['ref'] + '>' + row['alt']) \n",
    "ClinVar_indels_list"
   ]
  },
  {
   "cell_type": "code",
   "execution_count": null,
   "id": "e82bd55f",
   "metadata": {},
   "outputs": [],
   "source": [
    "ClinVar_total_set = set(ClinVar_Ens_list + ClinVar_3rd_list + ClinVar_indels_list)\n",
    "len(ClinVar_total_set)"
   ]
  },
  {
   "cell_type": "code",
   "execution_count": null,
   "id": "8c358d87",
   "metadata": {
    "scrolled": true
   },
   "outputs": [],
   "source": [
    "Rafique_1st = pd.read_csv(\n",
    "    'intermediate/Rafique_mapped_to_Ens_1st.csv')\n",
    "Rafique_1st"
   ]
  },
  {
   "cell_type": "code",
   "execution_count": null,
   "id": "646f0e8e",
   "metadata": {},
   "outputs": [],
   "source": [
    "len(Rafique_1st['id'].unique())"
   ]
  },
  {
   "cell_type": "code",
   "execution_count": null,
   "id": "b3912069",
   "metadata": {
    "scrolled": true
   },
   "outputs": [],
   "source": [
    "Rafique_2nd = pd.read_csv(\n",
    "    'intermediate/Rafique_mapped_to_Ens_2nd.csv', low_memory=False)\n",
    "Rafique_2nd"
   ]
  },
  {
   "cell_type": "code",
   "execution_count": null,
   "id": "150533fa",
   "metadata": {},
   "outputs": [],
   "source": [
    "len(Rafique_2nd['id'].unique())"
   ]
  },
  {
   "cell_type": "code",
   "execution_count": null,
   "id": "4d926976",
   "metadata": {},
   "outputs": [],
   "source": [
    "#Everything from Rafique mapped to Ensembl\n",
    "Rafique_Ens = pd.concat([Rafique_1st, Rafique_2nd]).drop_duplicates().reset_index(drop=True)\n",
    "Rafique_Ens"
   ]
  },
  {
   "cell_type": "code",
   "execution_count": null,
   "id": "18485ef7",
   "metadata": {},
   "outputs": [],
   "source": [
    "len(Rafique_Ens['id'].unique())"
   ]
  },
  {
   "cell_type": "code",
   "execution_count": null,
   "id": "1796757f",
   "metadata": {},
   "outputs": [],
   "source": [
    "Rafique_Ens_VCF = []\n",
    "for index, row in Rafique_Ens.iterrows():\n",
    "    Rafique_Ens_VCF.append({'chrom': row['coordinate'].replace('>', ':').split(':')[0],\n",
    "     'pos': row['coordinate'].replace('>', ':').split(':')[1],\n",
    "     'ref': row['coordinate'].replace('>', ':').split(':')[2],\n",
    "     'alt': row['coordinate'].replace('>', ':').split(':')[3],\n",
    "     'accession': row['id']})\n",
    "Rafique_Ens_VCF_df = pd.DataFrame(Rafique_Ens_VCF)\n",
    "Rafique_Ens_VCF_df"
   ]
  },
  {
   "cell_type": "code",
   "execution_count": null,
   "id": "761788ab",
   "metadata": {},
   "outputs": [],
   "source": [
    "Rafique_Ens_list = Rafique_Ens['coordinate'].unique().tolist()\n",
    "Rafique_Ens_list"
   ]
  },
  {
   "cell_type": "code",
   "execution_count": null,
   "id": "8a29ab02",
   "metadata": {
    "scrolled": true
   },
   "outputs": [],
   "source": [
    "Rafique_manual = pd.read_csv(\n",
    "    'input/Rafique_manual.csv')\n",
    "Rafique_manual = Rafique_manual.replace(nan, '')\n",
    "Rafique_manual"
   ]
  },
  {
   "cell_type": "code",
   "execution_count": null,
   "id": "d1a6088e",
   "metadata": {},
   "outputs": [],
   "source": [
    "Rafique_manual_list = [] \n",
    "for index, row in Rafique_manual.iterrows():\n",
    "    Rafique_manual_list.append(str(row['chrom']) + ':' + str(row['pos']) + ':' + row['ref'] + '>' + row['alt']) \n",
    "Rafique_manual_list"
   ]
  },
  {
   "cell_type": "code",
   "execution_count": null,
   "id": "5b6e5df7",
   "metadata": {},
   "outputs": [],
   "source": [
    "Rafique_all_set = set(Rafique_Ens_list + Rafique_manual_list)\n",
    "len(Rafique_all_set)"
   ]
  },
  {
   "cell_type": "code",
   "execution_count": null,
   "id": "e06ef144",
   "metadata": {},
   "outputs": [],
   "source": [
    "venn2(subsets = (ClinVar_total_set, Rafique_all_set), set_labels = ('ClinVar', 'Rafique'), \n",
    "      set_colors = (\"gold\", \"royalblue\"), alpha=1)\n",
    "plt.savefig('figures/ClinVar_Rafique_level1.png', dpi=300)"
   ]
  },
  {
   "cell_type": "code",
   "execution_count": null,
   "id": "349dd33c",
   "metadata": {},
   "outputs": [],
   "source": [
    "VCF = pd.concat([ClinVar_Ens_VCF_df, ClinVar_3rd, ClinVar_indels, Rafique_Ens_VCF_df, Rafique_manual]).drop_duplicates().reset_index(drop=True)\n",
    "VCF"
   ]
  },
  {
   "cell_type": "code",
   "execution_count": null,
   "id": "cff2d03f",
   "metadata": {},
   "outputs": [],
   "source": [
    "VCF.to_csv(\n",
    "    'intermediate/MD_variants_forVCF_level1.csv',\n",
    "    header=True, index=False)"
   ]
  },
  {
   "cell_type": "markdown",
   "id": "2cf83a2c",
   "metadata": {},
   "source": [
    "## 2. Small tables (ClinVar with just pathogenic + likely pathogenic, Rafique table without 3 canceled genes)"
   ]
  },
  {
   "cell_type": "markdown",
   "id": "16f55d76",
   "metadata": {},
   "source": [
    "ClinVar 1st stage of mapping pathogenic (to Ensembl using rs identifiers) 'ClinVar_pathogenic_mapped_1st.csv'"
   ]
  },
  {
   "cell_type": "markdown",
   "id": "2c8af9d5",
   "metadata": {},
   "source": [
    "ClinVar 2nd stage of mapping pathogenic (to Ensembl using coordinates) 'ClinVar_pathogenic_mapped_to_Ens_2nd.csv'"
   ]
  },
  {
   "cell_type": "markdown",
   "id": "89caa46e",
   "metadata": {},
   "source": [
    "ClinVar 3rd - fetched SNVs (the variants for which the molecular consequences have been fetched) <- ready to concat 'ClinVar_pat_unmapped_filtered_SNV_for_VCF.csv'"
   ]
  },
  {
   "cell_type": "markdown",
   "id": "f719dcbd",
   "metadata": {},
   "source": [
    "ClinVar indels edded unfiltered (actually this contains some SNPs as well, no reason identified) <- ready to concat 'ClinVar_pathogenic_indels.csv'"
   ]
  },
  {
   "cell_type": "markdown",
   "id": "7512ee4a",
   "metadata": {},
   "source": [
    "Rafique 1st stage of annotatopn (with Vcfanno) 'Rafique_mapped_to_Ens_1st_excluded BLK_KLF11_PAX4.csv'"
   ]
  },
  {
   "cell_type": "markdown",
   "id": "98eaeb9a",
   "metadata": {},
   "source": [
    "Rafique 2nd stage and manual are not added as their pathogenicity may be doubtfull "
   ]
  },
  {
   "cell_type": "code",
   "execution_count": null,
   "id": "30fea314",
   "metadata": {},
   "outputs": [],
   "source": [
    "#ClinVar 1st stage of mapping (to Ensembl using rs identifiers)\n",
    "ClinVar_1st_pat = pd.read_csv(\n",
    "    'intermediate/ClinVar_pathogenic_mapped_1st.csv')\n",
    "\n",
    "#list of varinat isd in it\n",
    "ClinVar_1st_pat_list = ClinVar_1st_pat['id'].unique().tolist()\n",
    "\n",
    "#ClinVar 2nd stage of mapping (to Ensembl using coordinates)\n",
    "ClinVar_2nd_pat = pd.read_csv(\n",
    "    'intermediate/ClinVar_pathogenic_mapped_to_Ens_2nd.csv')\n",
    "\n",
    "#list of varinat isd in it\n",
    "ClinVar_2nd_pat_list = ClinVar_2nd_pat['id'].unique().tolist()\n",
    "\n",
    "#Everything from ClinVar mapped to Ensembl\n",
    "ClinVar_Ens_pat = pd.concat([ClinVar_1st_pat, ClinVar_2nd_pat]).drop_duplicates().reset_index(drop=True)\n",
    "\n",
    "#creating yhr columns for VCF\n",
    "ClinVar_Ens_VCF_pat = []\n",
    "for index, row in ClinVar_Ens_pat.iterrows():\n",
    "    ClinVar_Ens_VCF_pat.append({'chrom': row['coordinate'].replace('>', ':').split(':')[0],\n",
    "     'pos': row['coordinate'].replace('>', ':').split(':')[1],\n",
    "     'ref': row['coordinate'].replace('>', ':').split(':')[2],\n",
    "     'alt': row['coordinate'].replace('>', ':').split(':')[3],\n",
    "     'accession': row['id']})\n",
    "ClinVar_Ens_VCF_df_pat = pd.DataFrame(ClinVar_Ens_VCF_pat)\n",
    "ClinVar_Ens_pat_list = ClinVar_Ens_pat['coordinate'].unique().tolist()\n",
    "\n",
    "#ClinVar 3rd - fetched SNVs (the variants for which the molecular consequences have been fetched) <- ready to concat\n",
    "ClinVar_3rd_pat = pd.read_csv(\n",
    "    'intermediate/ClinVar_pat_unmapped_filtered_SNV_for_VCF.csv')\n",
    "ClinVar_3rd_pat_list = [] \n",
    "for index, row in ClinVar_3rd_pat.iterrows():\n",
    "    ClinVar_3rd_pat_list.append(str(row['chrom']) + ':' + str(row['pos']) + ':' + row['ref'] + '>' + row['alt']) \n",
    "\n",
    "#ClinVar indels edded unfiltered (actually this contains some SNPs as well, no reason identified) <- ready to concat\n",
    "ClinVar_indels_pat = pd.read_csv(\n",
    "    'intermediate/ClinVar_pathogenic_indels.csv')\n",
    "ClinVar_indels_pat = ClinVar_indels_pat.replace(nan, '')\n",
    "ClinVar_indels_pat_list = [] \n",
    "for index, row in ClinVar_indels_pat.iterrows():\n",
    "    ClinVar_indels_pat_list.append(str(row['chrom']) + ':' + str(row['pos']) + ':' + row['ref'] + '>' + row['alt'])\n",
    "ClinVar_total_set_pat = set(ClinVar_Ens_pat_list + ClinVar_3rd_pat_list + ClinVar_indels_pat_list)\n",
    "\n",
    "#Rafique 1st stage\n",
    "Rafique_pat = pd.read_csv(\n",
    "    'intermediate/Rafique_mapped_to_Ens_1st_excluded_BLK_KLF11_PAX4.csv')\n",
    "Rafique_Ens_VCF_pat = []\n",
    "for index, row in Rafique_pat.iterrows():\n",
    "    Rafique_Ens_VCF_pat.append({'chrom': row['coordinate'].replace('>', ':').split(':')[0],\n",
    "     'pos': row['coordinate'].replace('>', ':').split(':')[1],\n",
    "     'ref': row['coordinate'].replace('>', ':').split(':')[2],\n",
    "     'alt': row['coordinate'].replace('>', ':').split(':')[3],\n",
    "     'accession': row['id']})\n",
    "Rafique_Ens_VCF_pat_df = pd.DataFrame(Rafique_Ens_VCF_pat)\n",
    "Rafique_pat_list = Rafique_pat['coordinate'].unique().tolist()\n",
    "Rafique_pat_set = set(Rafique_pat_list)\n",
    "VCF_pat = pd.concat([ClinVar_Ens_VCF_df_pat, ClinVar_3rd_pat, ClinVar_indels_pat, Rafique_Ens_VCF_pat_df]).drop_duplicates().reset_index(drop=True)\n",
    "VCF_pat.to_csv(\n",
    "    'intermediate/MD_variants_forVCF_level2.csv',\n",
    "    header=True, index=False)\n"
   ]
  },
  {
   "cell_type": "code",
   "execution_count": null,
   "id": "ad303280",
   "metadata": {},
   "outputs": [],
   "source": [
    "VCF_pat"
   ]
  },
  {
   "cell_type": "code",
   "execution_count": null,
   "id": "a5113127",
   "metadata": {},
   "outputs": [],
   "source": [
    "venn2(subsets = (ClinVar_total_set_pat, Rafique_pat_set), set_labels = ('ClinVar', 'Rafique')\n",
    "     ,set_colors = (\"gold\", \"royalblue\"), alpha=1)\n",
    "plt.savefig('figures/ClinVar_Rafique_level2.png', dpi=300)"
   ]
  },
  {
   "cell_type": "code",
   "execution_count": null,
   "id": "acef81d7",
   "metadata": {},
   "outputs": [],
   "source": [
    "#Comparisson of the Level1 table to the Level2 table\n",
    "venn2(subsets = (ClinVar_total_set.union(Rafique_all_set), \n",
    "                 ClinVar_total_set_pat.union(Rafique_pat_set)), \n",
    "                 set_labels = ('level1', 'level2'), \n",
    "                 set_colors = (\"gold\", \"royalblue\"), alpha=1)\n",
    "plt.savefig('figures/level1_level2.png', dpi=300)"
   ]
  },
  {
   "cell_type": "code",
   "execution_count": null,
   "id": "487c5231",
   "metadata": {},
   "outputs": [],
   "source": []
  }
 ],
 "metadata": {
  "kernelspec": {
   "display_name": "Python 3 (ipykernel)",
   "language": "python",
   "name": "python3"
  },
  "language_info": {
   "codemirror_mode": {
    "name": "ipython",
    "version": 3
   },
   "file_extension": ".py",
   "mimetype": "text/x-python",
   "name": "python",
   "nbconvert_exporter": "python",
   "pygments_lexer": "ipython3",
   "version": "3.9.10"
  }
 },
 "nbformat": 4,
 "nbformat_minor": 5
}
