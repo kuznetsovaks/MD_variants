{
 "cells": [
  {
   "cell_type": "markdown",
   "id": "da8a3f80",
   "metadata": {},
   "source": [
    "# Creating a Reference table from Ensembl"
   ]
  },
  {
   "cell_type": "markdown",
   "id": "468e4bf4",
   "metadata": {},
   "source": [
    "This notebook takes a user list of gene names and returns a table \n",
    "from Ensembl with variants in the exons of the given genes"
   ]
  },
  {
   "cell_type": "code",
   "execution_count": null,
   "id": "d88db8ec",
   "metadata": {},
   "outputs": [],
   "source": [
    "import requests, sys\n",
    "import pandas as pd\n",
    "import json\n",
    "import pprint\n",
    "import ast\n",
    "import time\n",
    "import ast"
   ]
  },
  {
   "cell_type": "markdown",
   "id": "79cf8e51",
   "metadata": {},
   "source": [
    "## 1. Import a list of genes, look up their ENSG, ENST and ENSE identifiers"
   ]
  },
  {
   "cell_type": "code",
   "execution_count": null,
   "id": "67ae6ef3",
   "metadata": {
    "scrolled": true
   },
   "outputs": [],
   "source": [
    "#list of genes\n",
    "\n",
    "genefile = open('input/big_MD_gene_list.txt', 'r')\n",
    "genelist = []\n",
    "for line in genefile:\n",
    "    genelist.append(line.rstrip(\"\\n\"))\n",
    "len(genelist) #how many genes are in the list"
   ]
  },
  {
   "cell_type": "markdown",
   "id": "d4b628c1",
   "metadata": {},
   "source": [
    "Look up identifiers and exons from gene name using Ensembl API requesting the https://rest.ensembl.org/ server. "
   ]
  },
  {
   "cell_type": "code",
   "execution_count": null,
   "id": "79049999",
   "metadata": {},
   "outputs": [],
   "source": [
    "passed_genes_list = []\n",
    "json_list = []"
   ]
  },
  {
   "cell_type": "code",
   "execution_count": null,
   "id": "2e1f7207",
   "metadata": {
    "scrolled": true
   },
   "outputs": [],
   "source": [
    "server = \"https://rest.ensembl.org\"\n",
    "for gene in genelist:\n",
    "    if gene not in passed_genes_list:\n",
    "        ext = (\"/lookup/symbol/homo_sapiens/\" + gene + \"?expand=1\")\n",
    "        r = requests.get(server+ext, headers={ \"Content-Type\" : \"application/json\"})\n",
    "        if not r.ok:\n",
    "            print('unsuccesful ', gene)\n",
    "            continue\n",
    " \n",
    "        decoded = r.json()\n",
    "        gene_ids = json.loads(repr(decoded).replace(\"\\'\", \"\\\"\"))\n",
    "        json_list.append(gene_ids)\n",
    "        time.sleep(1)\n",
    "        passed_genes_list.append(gene)\n",
    "        print(gene)\n",
    "    else: continue"
   ]
  },
  {
   "cell_type": "code",
   "execution_count": null,
   "id": "b2386be6",
   "metadata": {},
   "outputs": [],
   "source": [
    "#here is our list of jsons, each contains one gene\n",
    "\n",
    "json_list\n",
    "pprint.pprint(json_list[0])"
   ]
  },
  {
   "cell_type": "code",
   "execution_count": null,
   "id": "87f0f3eb",
   "metadata": {},
   "outputs": [],
   "source": [
    "#writing the resulting list in the file just in case the connection is lost\n",
    "\n",
    "with open('gene_id_decoded_json_list.txt', 'w') as output:\n",
    "    output.write(str(json_list))"
   ]
  },
  {
   "cell_type": "code",
   "execution_count": null,
   "id": "01c627bd",
   "metadata": {
    "scrolled": true
   },
   "outputs": [],
   "source": [
    "#extracting exon ids from it keeping the gene ids\n",
    "\n",
    "columns = ['Gene', 'Transcript', 'Exon']\n",
    "df_data = []\n",
    "\n",
    "for gene in json_list:\n",
    "    for elm in gene['Transcript']:\n",
    "        geneID = elm['Parent']\n",
    "        transcriptID = elm['id']\n",
    "        for exon in elm['Exon']:\n",
    "            df_data.append([geneID, transcriptID, exon['id']])\n",
    "            \n",
    "df = pd.DataFrame(data=df_data, columns=columns)\n",
    "#df"
   ]
  },
  {
   "cell_type": "code",
   "execution_count": null,
   "id": "60fb44d2",
   "metadata": {},
   "outputs": [],
   "source": [
    "#saving the Gene, Transcript and Exon IDs to the file\n",
    "\n",
    "df.to_csv('gene_trans_exon.csv', header=True, index=False)"
   ]
  },
  {
   "cell_type": "markdown",
   "id": "9b6de460",
   "metadata": {},
   "source": [
    "## 2. Calling for all the variants in these regions (exons of the selected genes) existing on Ensembl"
   ]
  },
  {
   "cell_type": "code",
   "execution_count": null,
   "id": "ba1e397b",
   "metadata": {},
   "outputs": [],
   "source": [
    "passed_exons_list = []\n",
    "exon_variants_list = []"
   ]
  },
  {
   "cell_type": "code",
   "execution_count": null,
   "id": "9a687ee0",
   "metadata": {
    "scrolled": true
   },
   "outputs": [],
   "source": [
    "server = \"https://rest.ensembl.org\"\n",
    "\n",
    "for index,row in df.iterrows(): \n",
    "    if row['Exon'] not in passed_exons_list:\n",
    "        ext_exon = (\"/overlap/id/\" + row['Exon'] + \"?feature=variation\")\n",
    "        geneID = row['Gene']\n",
    "        transcriptID = row['Transcript']\n",
    "        exonID = row['Exon']\n",
    "\n",
    "        resp = requests.get(server+ext_exon, headers={ \"Content-Type\" : \"application/json\"})  \n",
    "        if not resp.ok:\n",
    "            print('failed for ' + str(index))\n",
    "            continue\n",
    "        var_decoded = resp.json()\n",
    "        variants = pd.DataFrame(json.loads(repr(var_decoded).replace(\"\\'\", \"\\\"\")))\n",
    "        variants['Gene'] = geneID #add the column with Gene ID to have it in the final df\n",
    "        variants['Transcript'] = transcriptID #same for Transcript ID\n",
    "        variants['Exon'] = exonID #same for Exon ID\n",
    "        exon_variants_list.append(variants)\n",
    "        time.sleep(1)\n",
    "        print(index)\n",
    "        passed_exons_list.append(row['Exon'])\n",
    "    else: continue"
   ]
  },
  {
   "cell_type": "code",
   "execution_count": null,
   "id": "dcfd2b50",
   "metadata": {},
   "outputs": [],
   "source": [
    "#writing the resulting list in the file just in case the connection is lost\n",
    "\n",
    "with open('exon_variants_list.txt', 'w') as output:\n",
    "    output.write(str(exon_variants_list))"
   ]
  },
  {
   "cell_type": "code",
   "execution_count": null,
   "id": "ea4fe562",
   "metadata": {
    "scrolled": true
   },
   "outputs": [],
   "source": [
    "#creating the dataframe of variants\n",
    "\n",
    "exon_variants_all_genes = pd.concat(exon_variants_list, ignore_index=True)\n",
    "exon_variants_all_genes"
   ]
  },
  {
   "cell_type": "code",
   "execution_count": null,
   "id": "2ada1097",
   "metadata": {},
   "outputs": [],
   "source": [
    "#saving the unfiltered table to the file\n",
    "\n",
    "#exon_variants_all_genes.to_csv(\n",
    "#    '/Users/ksenia/Documents/MODY_genes/whole_pipeline_311011/MD_genes_exon_variants_Ens_unfiltered.csv',\n",
    "#    header=True, index=False)"
   ]
  },
  {
   "cell_type": "markdown",
   "id": "43a87f5b",
   "metadata": {},
   "source": [
    "## 3. Filter the variants by consequence type"
   ]
  },
  {
   "cell_type": "code",
   "execution_count": null,
   "id": "003e786b",
   "metadata": {
    "scrolled": true
   },
   "outputs": [],
   "source": [
    "#Drop all the rows with no allele info\n",
    "\n",
    "dbSNP = exon_variants_all_genes[\n",
    "    exon_variants_all_genes['alleles'].apply(lambda x: 'HGMD_MUTATION' not in x)].reset_index(drop=True)\n",
    "dbSNP"
   ]
  },
  {
   "cell_type": "code",
   "execution_count": null,
   "id": "e2cd33e5",
   "metadata": {},
   "outputs": [],
   "source": [
    "#saving the unfiltered table that contains variants with known allele information\n",
    "\n",
    "dbSNP.to_csv(\n",
    "    'MD_genes_exon_variants_Ens_unfiltered_dbSNP.csv',\n",
    "    header=True, index=False)"
   ]
  },
  {
   "cell_type": "markdown",
   "id": "9bef5bd3",
   "metadata": {},
   "source": [
    "Here another notebook '2_Pathogenicity_consequences_type_analysis_Ensembl' has to be run to decide for the consequence types to leave in the table"
   ]
  },
  {
   "cell_type": "code",
   "execution_count": null,
   "id": "039406a5",
   "metadata": {},
   "outputs": [],
   "source": [
    "dbSNP['consequence_type'].unique()"
   ]
  },
  {
   "cell_type": "code",
   "execution_count": null,
   "id": "98e30073",
   "metadata": {},
   "outputs": [],
   "source": [
    "#The list of consequence types we decided to leave in the table\n",
    "\n",
    "consequence_type_list = ['missense_variant',\n",
    "                         'protein_altering_variant',\n",
    "                         'coding_sequence_variant',\n",
    "                         'frameshift_variant',\n",
    "                         'splice_donor_variant',\n",
    "                         'splice_acceptor_variant',\n",
    "                         'splice_donor_5th_base_variant',\n",
    "                         'start_lost',\n",
    "                         'stop_gained',\n",
    "                         'stop_lost',\n",
    "                         'inframe_deletion',\n",
    "                         'inframe_insertion']"
   ]
  },
  {
   "cell_type": "code",
   "execution_count": null,
   "id": "3e6fcf88",
   "metadata": {
    "scrolled": true
   },
   "outputs": [],
   "source": [
    "filtered_cons_type = dbSNP.query('consequence_type in @consequence_type_list').reset_index(drop=True)\n",
    "filtered_cons_type"
   ]
  },
  {
   "cell_type": "code",
   "execution_count": null,
   "id": "7ede0d31",
   "metadata": {},
   "outputs": [],
   "source": [
    "filtered_cons_type.to_csv(\n",
    "    'MD_genes_exon_variants_Ens_filtered.csv',\n",
    "    header=True, index=False)"
   ]
  },
  {
   "cell_type": "markdown",
   "id": "7bb99633",
   "metadata": {},
   "source": [
    "## 4. Crealing a \"Location\" column for future mapping"
   ]
  },
  {
   "cell_type": "markdown",
   "id": "2591b137",
   "metadata": {},
   "source": [
    "To create a coordinate for each alternative allele in case there are more then 2 alleles, add a line for each alternative allele"
   ]
  },
  {
   "cell_type": "code",
   "execution_count": null,
   "id": "ccd0be45",
   "metadata": {},
   "outputs": [],
   "source": [
    "#for each variant that has more than 2 alleles, add the row with each allele\n",
    "alternative_alleles = []\n",
    "for index, row in filtered_cons_type.iterrows():\n",
    "    if len(row['alleles']) > 2:\n",
    "        for i in range(len(row['alleles'])):\n",
    "            if row['alleles'][0] != row['alleles'][i-1]:\n",
    "                alternative_alleles.append({'clinical_significance': '',\n",
    "                                            'seq_region_name': row['seq_region_name'],\n",
    "                                            'assembly_name': row['assembly_name'],\n",
    "                                            'alleles': [row['alleles'][0], row['alleles'][i-1]],\n",
    "                                            'id': row['id'],\n",
    "                                            'strand': row['strand'],\n",
    "                                            'consequence_type': '',\n",
    "                                            'feature_type': row['feature_type'],\n",
    "                                            'source': row['source'],\n",
    "                                            'end': row['end'],\n",
    "                                            'start': row['start'],\n",
    "                                            'Gene': row['Gene'],\n",
    "                                            'Transcript': row['Transcript'],\n",
    "                                            'Exon': row['Exon']})\n",
    "alternative_alleles_df = pd.DataFrame(alternative_alleles)"
   ]
  },
  {
   "cell_type": "code",
   "execution_count": null,
   "id": "9b3aa21c",
   "metadata": {
    "scrolled": true
   },
   "outputs": [],
   "source": [
    "all_alleles = pd.concat([filtered_cons_type, alternative_alleles_df]).reset_index(drop=True)\n",
    "all_alleles"
   ]
  },
  {
   "cell_type": "markdown",
   "id": "8a2abefb",
   "metadata": {},
   "source": [
    "Open all_alleles from the file if it has already been created"
   ]
  },
  {
   "cell_type": "code",
   "execution_count": null,
   "id": "efa93dfa",
   "metadata": {},
   "outputs": [],
   "source": [
    "vf_allele =[]\n",
    "for el in all_alleles['alleles']:\n",
    "    vf_allele.append(el[1])\n",
    "all_alleles['vf_allele'] = vf_allele"
   ]
  },
  {
   "cell_type": "markdown",
   "id": "7f4110e8",
   "metadata": {},
   "source": [
    "Here one needs to keep in mind that allelic info for the variants with more than 2 alleles stayed intact and more lines with alternativa alleles were added. In other words, one need to reguard only [o] and [1] alleles from the 'alleles' column"
   ]
  },
  {
   "cell_type": "markdown",
   "id": "82e87482",
   "metadata": {},
   "source": [
    "Correcting the ['alleles'] column so there are just 2 alleles as the ones that are more than 2 were adeed to the end of the table "
   ]
  },
  {
   "cell_type": "code",
   "execution_count": null,
   "id": "1bd51db5",
   "metadata": {
    "scrolled": true
   },
   "outputs": [],
   "source": [
    "two_alleles = []\n",
    "for item in all_alleles['alleles']:\n",
    "    two_alleles.append(item[:2]) \n",
    "all_alleles['alleles'] = two_alleles\n",
    "all_alleles"
   ]
  },
  {
   "cell_type": "code",
   "execution_count": null,
   "id": "aec07eaf",
   "metadata": {},
   "outputs": [],
   "source": [
    "#creating the Location column\n",
    "\n",
    "location = []\n",
    "for index, row in all_alleles.iterrows():\n",
    "    location.append(str(row['seq_region_name']) + ':' + str(int(row['start'])))"
   ]
  },
  {
   "cell_type": "code",
   "execution_count": null,
   "id": "bf0c798c",
   "metadata": {},
   "outputs": [],
   "source": [
    "all_alleles['Location'] = location"
   ]
  },
  {
   "cell_type": "code",
   "execution_count": null,
   "id": "d4bf9901",
   "metadata": {},
   "outputs": [],
   "source": [
    "all_alleles.to_csv(\n",
    "    'MD_genes_exon_variants_Ens_filtered_all_alleles_location.csv',\n",
    "    header=True, index=False)"
   ]
  },
  {
   "cell_type": "code",
   "execution_count": null,
   "id": "556fb94f",
   "metadata": {},
   "outputs": [],
   "source": [
    "#all_alleles = pd.read_csv(\n",
    "#    '/Users/ksenia/Documents/MODY_genes/pipeline_october2022/MD_genes_exon_variants_Ens_filtered_all_alleles_location.csv', \n",
    "#                                converters={'alleles': ast.literal_eval}, low_memory=False) \n",
    "all_alleles"
   ]
  },
  {
   "cell_type": "code",
   "execution_count": null,
   "id": "b5cc73c7",
   "metadata": {},
   "outputs": [],
   "source": [
    "#creating the Coordinate column\n",
    "\n",
    "coordinates = []\n",
    "for index, row in all_alleles.iterrows():\n",
    "    coordinates.append(row['Location'] + ':' + row['alleles'][0] + '>' + row['vf_allele'])\n",
    "all_alleles['coordinate'] = coordinates\n",
    "all_alleles"
   ]
  },
  {
   "cell_type": "code",
   "execution_count": null,
   "id": "e42315d1",
   "metadata": {},
   "outputs": [],
   "source": [
    "all_alleles.to_csv(\n",
    "    'Ens_filtered_all_alleles_location_coord.csv',\n",
    "    header=True, index=False)"
   ]
  },
  {
   "cell_type": "code",
   "execution_count": null,
   "id": "9be4913b",
   "metadata": {},
   "outputs": [],
   "source": [
    "# To be able to drop duplicates, dropping the 'clinical_significance', \n",
    "#'clinical_significance', 'alleles' and other columns\n",
    "\n",
    "all_alleles_no_duplicates = all_alleles[['id', 'seq_region_name', 'start', 'end', 'strand', 'vf_allele', 'Location', \n",
    "             'coordinate', 'Gene', 'Transcript', 'Exon']].drop_duplicates().reset_index(drop=True)\n",
    "all_alleles_no_duplicates"
   ]
  },
  {
   "cell_type": "code",
   "execution_count": null,
   "id": "ed1eb7e9",
   "metadata": {},
   "outputs": [],
   "source": [
    "all_alleles_no_duplicates.to_csv(\n",
    "    'Ens_filtered_all_alleles_location_coord_no_duplicates.csv',\n",
    "    header=True, index=False)"
   ]
  },
  {
   "cell_type": "code",
   "execution_count": null,
   "id": "660ec96f",
   "metadata": {},
   "outputs": [],
   "source": []
  }
 ],
 "metadata": {
  "kernelspec": {
   "display_name": "Python 3 (ipykernel)",
   "language": "python",
   "name": "python3"
  },
  "language_info": {
   "codemirror_mode": {
    "name": "ipython",
    "version": 3
   },
   "file_extension": ".py",
   "mimetype": "text/x-python",
   "name": "python",
   "nbconvert_exporter": "python",
   "pygments_lexer": "ipython3",
   "version": "3.9.10"
  }
 },
 "nbformat": 4,
 "nbformat_minor": 5
}
