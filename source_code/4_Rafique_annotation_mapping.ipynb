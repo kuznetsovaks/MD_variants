{
 "cells": [
  {
   "cell_type": "code",
   "execution_count": null,
   "id": "a7097cf9",
   "metadata": {},
   "outputs": [],
   "source": [
    "import hgvs.parser\n",
    "import hgvs.dataproviders.uta\n",
    "import hgvs.assemblymapper\n",
    "import xml.etree.ElementTree as ET\n",
    "import requests\n",
    "import pandas as pd\n",
    "from numpy import nan"
   ]
  },
  {
   "cell_type": "markdown",
   "id": "d5bec307",
   "metadata": {},
   "source": [
    "# Take the table from Rafique et al., 2021 supplementary and annotate it "
   ]
  },
  {
   "cell_type": "markdown",
   "id": "2871ce2d",
   "metadata": {},
   "source": [
    "## 1. Import and annotate the table from Rafique usinf Vcfanno \n",
    "the table was slightly cleaned and converted from MS Word to .csv"
   ]
  },
  {
   "cell_type": "code",
   "execution_count": null,
   "id": "8e2e1a71",
   "metadata": {
    "scrolled": true
   },
   "outputs": [],
   "source": [
    "# MODY table\n",
    "mody_df = pd.read_csv('input/clean_variants_from_ Rafique.csv',\n",
    "                      converters={i: str for i in range(11)}, low_memory=False)\n",
    "mody_df"
   ]
  },
  {
   "cell_type": "code",
   "execution_count": null,
   "id": "16b13ae8",
   "metadata": {},
   "outputs": [],
   "source": [
    "# initialize HGVS package\n",
    "hp = hgvs.parser.Parser()\n",
    "hdp = hgvs.dataproviders.uta.connect()\n",
    "am = hgvs.assemblymapper.AssemblyMapper(hdp, assembly_name='GRCh38', alt_aln_method='splign', replace_reference=True)"
   ]
  },
  {
   "cell_type": "code",
   "execution_count": null,
   "id": "998a817b",
   "metadata": {},
   "outputs": [],
   "source": [
    "# get the NM id based on an NP ID\n",
    "def query_nm_id(db_name, NP_id):\n",
    "    response = requests.get(\"https://eutils.ncbi.nlm.nih.gov/entrez/eutils/esearch.fcgi?db=\" + db_name + \"&term=\" + NP_id)\n",
    "    root = ET.fromstring(response.content)\n",
    "\n",
    "    NM_id = ''\n",
    "\n",
    "    for child in root.iter('Id'):\n",
    "        id = child.text\n",
    "\n",
    "        full_response = requests.get('https://eutils.ncbi.nlm.nih.gov/entrez/eutils/efetch.fcgi?db=' + db_name + '&id=' + id)\n",
    "\n",
    "        if ('accession \"NM_' in full_response.text):\n",
    "            NM_id = 'NM_' + full_response.text.split('accession \\\"NM_', 1)[1].split('\\\"', 1)[0]\n",
    "\n",
    "    return NM_id"
   ]
  },
  {
   "cell_type": "code",
   "execution_count": null,
   "id": "3e7420e6",
   "metadata": {},
   "outputs": [],
   "source": [
    "NP_NM_map = {}\t# Mapping of NP to NM accessions\n",
    "\n",
    "# function to extract the NM accession from the 'Accession number' field, if present\n",
    "def get_id_nm(acc_row):\n",
    "    NP_id = ''\n",
    "    NM_id = ''\n",
    "\n",
    "    if ('NM_' in str(acc_row)):\n",
    "        NM_id = 'NM_' + acc_row.split('NM_', 1)[1].split()[0]\n",
    "\n",
    "    if ('NP_' in str(acc_row)):\n",
    "        NP_id = 'NP_' + acc_row.split('NP_', 1)[1].split()[0]\n",
    "\n",
    "        if (NM_id == ''):\n",
    "            if (NP_id in NP_NM_map):\n",
    "                NM_id = NP_NM_map[NP_id]\n",
    "            else:\n",
    "                NM_id = query_nm_id(\"protein\", NP_id)\n",
    "                NP_NM_map[NP_id] = NM_id\n",
    "        else:\n",
    "            NP_NM_map[NP_id] = NM_id\n",
    "\n",
    "    return NM_id"
   ]
  },
  {
   "cell_type": "code",
   "execution_count": null,
   "id": "75ddeb3e",
   "metadata": {},
   "outputs": [],
   "source": [
    "mody_df['NM_acc'] = mody_df['Accession number'].apply(get_id_nm)"
   ]
  },
  {
   "cell_type": "code",
   "execution_count": null,
   "id": "406c13a2",
   "metadata": {},
   "outputs": [],
   "source": [
    "# get the genomic coordinates of a the variant\n",
    "def get_genomic_coords(row):\n",
    "    nm_acc = row['NM_acc']\n",
    "    c_pos = row['Nucleotide position'].strip()\n",
    "    c_pos = c_pos.replace(',', '')\n",
    "    c_pos = c_pos.replace(' ', '')\n",
    "\n",
    "    if ('NM' not in nm_acc) or ('c.' not in c_pos):\n",
    "        return None\n",
    "\n",
    "    hgvs_c = nm_acc + ':' + c_pos\n",
    "    var_g = None\n",
    "\n",
    "    try:\n",
    "        var_c = hp.parse_hgvs_variant(hgvs_c)\n",
    "        var_g = am.c_to_g(var_c)\n",
    "\n",
    "    except:\n",
    "        return None\n",
    "\n",
    "    finally:\n",
    "        return var_g"
   ]
  },
  {
   "cell_type": "code",
   "execution_count": null,
   "id": "761a6b5a",
   "metadata": {},
   "outputs": [],
   "source": [
    "mody_df['DNA_coords'] = mody_df.apply(get_genomic_coords, axis=1)"
   ]
  },
  {
   "cell_type": "code",
   "execution_count": null,
   "id": "ce9df501",
   "metadata": {},
   "outputs": [],
   "source": [
    "# Ensembl Exon variants table filtered and with all the alleles as separate rows and 'vf_allele' column added\n",
    "Exon_var = pd.read_csv(\n",
    "    'Ens_filtered_all_alleles_location_coord_no_duplicates.csv',\n",
    "                      converters={i: str for i in range(11)}, low_memory=False)\n",
    "Exon_var"
   ]
  },
  {
   "cell_type": "code",
   "execution_count": null,
   "id": "60066bd1",
   "metadata": {},
   "outputs": [],
   "source": [
    "# map the row in the MODY table to the ensembl table, if possible\n",
    "def map_to_ensembl(row):\n",
    "    var_g = row['DNA_coords']\n",
    "    if (var_g is None):\n",
    "        return ''\n",
    "\n",
    "    bp_pos = 0\n",
    "    alt_allele = ''\n",
    "\n",
    "    try:\n",
    "        bp_pos = var_g.posedit.pos.start.base\n",
    "        alt_allele = var_g.posedit.edit.alt\n",
    "\n",
    "    except:\n",
    "        return ''\n",
    "\n",
    "    finally:\n",
    "        # find corresponding position in the ensembl table\n",
    "        ensembl_candidates = Exon_var[Exon_var['Location'].str.contains(str(bp_pos)) & (Exon_var['vf_allele'] == alt_allele)]\n",
    "\n",
    "        if (len(ensembl_candidates) > 0):\n",
    "            return \";\".join(ensembl_candidates['id'].unique().tolist())\n",
    "        else:\n",
    "            return ''\n",
    "\n",
    "mody_df['ensembl_id'] = mody_df.apply(map_to_ensembl, axis=1)\n",
    "mody_df['DNA_coords'] = mody_df['DNA_coords'].apply(lambda x: str(x))"
   ]
  },
  {
   "cell_type": "code",
   "execution_count": null,
   "id": "8d81538d",
   "metadata": {},
   "outputs": [],
   "source": [
    "mody_df"
   ]
  },
  {
   "cell_type": "code",
   "execution_count": null,
   "id": "e02b0bb5",
   "metadata": {},
   "outputs": [],
   "source": [
    "# Writing the annotated table to file\n",
    "mody_df.to_csv(\n",
    "    'Rafique_with_rs.csv',\n",
    "    header=True, index=False)"
   ]
  },
  {
   "cell_type": "code",
   "execution_count": null,
   "id": "5d8fdc88",
   "metadata": {},
   "outputs": [],
   "source": [
    "# Creating a list of variants from Rafique that now have the rs identifiers\n",
    "ids_from_Rafique = []\n",
    "for number in mody_df['ensembl_id']:\n",
    "    if number != '': ids_from_Rafique.append(number)\n",
    "len(ids_from_Rafique)"
   ]
  },
  {
   "cell_type": "code",
   "execution_count": null,
   "id": "2b30fce5",
   "metadata": {},
   "outputs": [],
   "source": [
    "# Filtering the Ensembl table to only those variants\n",
    "mapped_variants = Exon_var.drop_duplicates().query('id in @ids_from_Rafique').reset_index(drop=True)\n",
    "mapped_variants"
   ]
  },
  {
   "cell_type": "code",
   "execution_count": null,
   "id": "2edcbc45",
   "metadata": {},
   "outputs": [],
   "source": [
    "mapped_variants.to_csv('Rafique_mapped_to_Ens_1st.csv',\n",
    "    header=True, index=False)"
   ]
  },
  {
   "cell_type": "markdown",
   "id": "d4ecc274",
   "metadata": {},
   "source": [
    "## 2. Table with Rafique annotated variants, but excluded BLK, KLF11 and PAX4"
   ]
  },
  {
   "cell_type": "code",
   "execution_count": null,
   "id": "662337f5",
   "metadata": {},
   "outputs": [],
   "source": [
    "genes = ['GCK', 'HNF1A', 'HNF4A', 'HNF1B', 'INS', 'ABCC8', 'PDX1',\n",
    "       'NEUROD1', 'KCNJ11', 'APPL1', 'CEL']"
   ]
  },
  {
   "cell_type": "code",
   "execution_count": null,
   "id": "cb5ed31f",
   "metadata": {
    "scrolled": true
   },
   "outputs": [],
   "source": [
    "Rafique_excluded = mody_df.query('Gene in @genes').reset_index(drop=True)\n",
    "Rafique_excluded = Rafique_excluded.replace(nan, '')\n",
    "Rafique_excluded"
   ]
  },
  {
   "cell_type": "code",
   "execution_count": null,
   "id": "4ff17910",
   "metadata": {},
   "outputs": [],
   "source": [
    "# Creating a list of variants from Rafique that now have the rs identifiers\n",
    "ids_from_Rafique_excluded = []\n",
    "for number in Rafique_excluded['ensembl_id']:\n",
    "    if number != '': ids_from_Rafique_excluded.append(number)\n",
    "len(ids_from_Rafique_excluded)"
   ]
  },
  {
   "cell_type": "code",
   "execution_count": null,
   "id": "4175e541",
   "metadata": {},
   "outputs": [],
   "source": [
    "mapped_variants_excluded = Exon_var.drop_duplicates().query('id in @ids_from_Rafique_excluded').reset_index(drop=True)\n",
    "mapped_variants_excluded"
   ]
  },
  {
   "cell_type": "code",
   "execution_count": null,
   "id": "3a291e55",
   "metadata": {},
   "outputs": [],
   "source": [
    "# Writing to file specifying that it is the 1st stage of annotation ans short version of the table\n",
    "mapped_variants.to_csv(\n",
    "    'Rafique_mapped_to_Ens_1st_excluded_BLK_KLF11_PAX4.csv',\n",
    "    header=True, index=False)"
   ]
  },
  {
   "cell_type": "code",
   "execution_count": null,
   "id": "4b920c85",
   "metadata": {},
   "outputs": [],
   "source": []
  }
 ],
 "metadata": {
  "kernelspec": {
   "display_name": "Python 3 (ipykernel)",
   "language": "python",
   "name": "python3"
  },
  "language_info": {
   "codemirror_mode": {
    "name": "ipython",
    "version": 3
   },
   "file_extension": ".py",
   "mimetype": "text/x-python",
   "name": "python",
   "nbconvert_exporter": "python",
   "pygments_lexer": "ipython3",
   "version": "3.9.10"
  }
 },
 "nbformat": 4,
 "nbformat_minor": 5
}
